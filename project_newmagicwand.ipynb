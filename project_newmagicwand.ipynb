{
  "cells": [
    {
      "cell_type": "markdown",
      "metadata": {
        "id": "F1ucoM13O9Iw"
      },
      "source": [
        "### Charlie BROSSE, Adrien HUET"
      ]
    },
    {
      "cell_type": "markdown",
      "metadata": {
        "id": "ZgxB82d-W9u8"
      },
      "source": [
        "### Nouvelle Baguette Magique"
      ]
    },
    {
      "cell_type": "code",
      "execution_count": 3,
      "metadata": {
        "colab": {
          "base_uri": "https://localhost:8080/"
        },
        "id": "EZiA71x_XwN3",
        "outputId": "f9238a79-bf24-4339-b7c7-bc1f3369c446"
      },
      "outputs": [
        {
          "name": "stdout",
          "output_type": "stream",
          "text": [
            "Collecting pyspark\n",
            "  Using cached pyspark-3.3.0.tar.gz (281.3 MB)\n",
            "  Preparing metadata (setup.py): started\n",
            "  Preparing metadata (setup.py): finished with status 'done'\n",
            "Requirement already satisfied: py4j==0.10.9.5 in c:\\users\\charl\\appdata\\local\\packages\\pythonsoftwarefoundation.python.3.10_qbz5n2kfra8p0\\localcache\\local-packages\\python310\\site-packages (from pyspark) (0.10.9.5)\n",
            "Using legacy 'setup.py install' for pyspark, since package 'wheel' is not installed.\n",
            "Installing collected packages: pyspark\n",
            "  Running setup.py install for pyspark: started\n",
            "  Running setup.py install for pyspark: finished with status 'error'\n"
          ]
        },
        {
          "name": "stderr",
          "output_type": "stream",
          "text": [
            "  error: subprocess-exited-with-error\n",
            "  \n",
            "  × Running setup.py install for pyspark did not run successfully.\n",
            "  │ exit code: 1\n",
            "  ╰─> [766 lines of output]\n",
            "      C:\\Program Files\\WindowsApps\\PythonSoftwareFoundation.Python.3.10_3.10.1520.0_x64__qbz5n2kfra8p0\\lib\\site-packages\\setuptools\\dist.py:717: UserWarning: Usage of dash-separated 'description-file' will not be supported in future versions. Please use the underscore name 'description_file' instead\n",
            "        warnings.warn(\n",
            "      running install\n",
            "      running build\n",
            "      running build_py\n",
            "      creating build\n",
            "      creating build\\lib\n",
            "      creating build\\lib\\pyspark\n",
            "      copying pyspark\\accumulators.py -> build\\lib\\pyspark\n",
            "      copying pyspark\\broadcast.py -> build\\lib\\pyspark\n",
            "      copying pyspark\\conf.py -> build\\lib\\pyspark\n",
            "      copying pyspark\\context.py -> build\\lib\\pyspark\n",
            "      copying pyspark\\daemon.py -> build\\lib\\pyspark\n",
            "      copying pyspark\\files.py -> build\\lib\\pyspark\n",
            "      copying pyspark\\find_spark_home.py -> build\\lib\\pyspark\n",
            "      copying pyspark\\install.py -> build\\lib\\pyspark\n",
            "      copying pyspark\\instrumentation_utils.py -> build\\lib\\pyspark\n",
            "      copying pyspark\\java_gateway.py -> build\\lib\\pyspark\n",
            "      copying pyspark\\join.py -> build\\lib\\pyspark\n",
            "      copying pyspark\\profiler.py -> build\\lib\\pyspark\n",
            "      copying pyspark\\rdd.py -> build\\lib\\pyspark\n",
            "      copying pyspark\\rddsampler.py -> build\\lib\\pyspark\n",
            "      copying pyspark\\resultiterable.py -> build\\lib\\pyspark\n",
            "      copying pyspark\\serializers.py -> build\\lib\\pyspark\n",
            "      copying pyspark\\shell.py -> build\\lib\\pyspark\n",
            "      copying pyspark\\shuffle.py -> build\\lib\\pyspark\n",
            "      copying pyspark\\statcounter.py -> build\\lib\\pyspark\n",
            "      copying pyspark\\status.py -> build\\lib\\pyspark\n",
            "      copying pyspark\\storagelevel.py -> build\\lib\\pyspark\n",
            "      copying pyspark\\taskcontext.py -> build\\lib\\pyspark\n",
            "      copying pyspark\\traceback_utils.py -> build\\lib\\pyspark\n",
            "      copying pyspark\\util.py -> build\\lib\\pyspark\n",
            "      copying pyspark\\version.py -> build\\lib\\pyspark\n",
            "      copying pyspark\\worker.py -> build\\lib\\pyspark\n",
            "      copying pyspark\\_globals.py -> build\\lib\\pyspark\n",
            "      copying pyspark\\__init__.py -> build\\lib\\pyspark\n",
            "      creating build\\lib\\pyspark\\cloudpickle\n",
            "      copying pyspark\\cloudpickle\\cloudpickle.py -> build\\lib\\pyspark\\cloudpickle\n",
            "      copying pyspark\\cloudpickle\\cloudpickle_fast.py -> build\\lib\\pyspark\\cloudpickle\n",
            "      copying pyspark\\cloudpickle\\compat.py -> build\\lib\\pyspark\\cloudpickle\n",
            "      copying pyspark\\cloudpickle\\__init__.py -> build\\lib\\pyspark\\cloudpickle\n",
            "      creating build\\lib\\pyspark\\mllib\n",
            "      copying pyspark\\mllib\\classification.py -> build\\lib\\pyspark\\mllib\n",
            "      copying pyspark\\mllib\\clustering.py -> build\\lib\\pyspark\\mllib\n",
            "      copying pyspark\\mllib\\common.py -> build\\lib\\pyspark\\mllib\n",
            "      copying pyspark\\mllib\\evaluation.py -> build\\lib\\pyspark\\mllib\n",
            "      copying pyspark\\mllib\\feature.py -> build\\lib\\pyspark\\mllib\n",
            "      copying pyspark\\mllib\\fpm.py -> build\\lib\\pyspark\\mllib\n",
            "      copying pyspark\\mllib\\random.py -> build\\lib\\pyspark\\mllib\n",
            "      copying pyspark\\mllib\\recommendation.py -> build\\lib\\pyspark\\mllib\n",
            "      copying pyspark\\mllib\\regression.py -> build\\lib\\pyspark\\mllib\n",
            "      copying pyspark\\mllib\\tree.py -> build\\lib\\pyspark\\mllib\n",
            "      copying pyspark\\mllib\\util.py -> build\\lib\\pyspark\\mllib\n",
            "      copying pyspark\\mllib\\__init__.py -> build\\lib\\pyspark\\mllib\n",
            "      creating build\\lib\\pyspark\\mllib\\linalg\n",
            "      copying pyspark\\mllib\\linalg\\distributed.py -> build\\lib\\pyspark\\mllib\\linalg\n",
            "      copying pyspark\\mllib\\linalg\\__init__.py -> build\\lib\\pyspark\\mllib\\linalg\n",
            "      creating build\\lib\\pyspark\\mllib\\stat\n",
            "      copying pyspark\\mllib\\stat\\distribution.py -> build\\lib\\pyspark\\mllib\\stat\n",
            "      copying pyspark\\mllib\\stat\\KernelDensity.py -> build\\lib\\pyspark\\mllib\\stat\n",
            "      copying pyspark\\mllib\\stat\\test.py -> build\\lib\\pyspark\\mllib\\stat\n",
            "      copying pyspark\\mllib\\stat\\_statistics.py -> build\\lib\\pyspark\\mllib\\stat\n",
            "      copying pyspark\\mllib\\stat\\__init__.py -> build\\lib\\pyspark\\mllib\\stat\n",
            "      creating build\\lib\\pyspark\\ml\n",
            "      copying pyspark\\ml\\base.py -> build\\lib\\pyspark\\ml\n",
            "      copying pyspark\\ml\\classification.py -> build\\lib\\pyspark\\ml\n",
            "      copying pyspark\\ml\\clustering.py -> build\\lib\\pyspark\\ml\n",
            "      copying pyspark\\ml\\common.py -> build\\lib\\pyspark\\ml\n",
            "      copying pyspark\\ml\\evaluation.py -> build\\lib\\pyspark\\ml\n",
            "      copying pyspark\\ml\\feature.py -> build\\lib\\pyspark\\ml\n",
            "      copying pyspark\\ml\\fpm.py -> build\\lib\\pyspark\\ml\n",
            "      copying pyspark\\ml\\functions.py -> build\\lib\\pyspark\\ml\n",
            "      copying pyspark\\ml\\image.py -> build\\lib\\pyspark\\ml\n",
            "      copying pyspark\\ml\\pipeline.py -> build\\lib\\pyspark\\ml\n",
            "      copying pyspark\\ml\\recommendation.py -> build\\lib\\pyspark\\ml\n",
            "      copying pyspark\\ml\\regression.py -> build\\lib\\pyspark\\ml\n",
            "      copying pyspark\\ml\\stat.py -> build\\lib\\pyspark\\ml\n",
            "      copying pyspark\\ml\\tree.py -> build\\lib\\pyspark\\ml\n",
            "      copying pyspark\\ml\\tuning.py -> build\\lib\\pyspark\\ml\n",
            "      copying pyspark\\ml\\util.py -> build\\lib\\pyspark\\ml\n",
            "      copying pyspark\\ml\\wrapper.py -> build\\lib\\pyspark\\ml\n",
            "      copying pyspark\\ml\\__init__.py -> build\\lib\\pyspark\\ml\n",
            "      creating build\\lib\\pyspark\\ml\\linalg\n",
            "      copying pyspark\\ml\\linalg\\__init__.py -> build\\lib\\pyspark\\ml\\linalg\n",
            "      creating build\\lib\\pyspark\\ml\\param\n",
            "      copying pyspark\\ml\\param\\shared.py -> build\\lib\\pyspark\\ml\\param\n",
            "      copying pyspark\\ml\\param\\_shared_params_code_gen.py -> build\\lib\\pyspark\\ml\\param\n",
            "      copying pyspark\\ml\\param\\__init__.py -> build\\lib\\pyspark\\ml\\param\n",
            "      creating build\\lib\\pyspark\\sql\n",
            "      copying pyspark\\sql\\catalog.py -> build\\lib\\pyspark\\sql\n",
            "      copying pyspark\\sql\\column.py -> build\\lib\\pyspark\\sql\n",
            "      copying pyspark\\sql\\conf.py -> build\\lib\\pyspark\\sql\n",
            "      copying pyspark\\sql\\context.py -> build\\lib\\pyspark\\sql\n",
            "      copying pyspark\\sql\\dataframe.py -> build\\lib\\pyspark\\sql\n",
            "      copying pyspark\\sql\\functions.py -> build\\lib\\pyspark\\sql\n",
            "      copying pyspark\\sql\\group.py -> build\\lib\\pyspark\\sql\n",
            "      copying pyspark\\sql\\observation.py -> build\\lib\\pyspark\\sql\n",
            "      copying pyspark\\sql\\readwriter.py -> build\\lib\\pyspark\\sql\n",
            "      copying pyspark\\sql\\session.py -> build\\lib\\pyspark\\sql\n",
            "      copying pyspark\\sql\\sql_formatter.py -> build\\lib\\pyspark\\sql\n",
            "      copying pyspark\\sql\\streaming.py -> build\\lib\\pyspark\\sql\n",
            "      copying pyspark\\sql\\types.py -> build\\lib\\pyspark\\sql\n",
            "      copying pyspark\\sql\\udf.py -> build\\lib\\pyspark\\sql\n",
            "      copying pyspark\\sql\\utils.py -> build\\lib\\pyspark\\sql\n",
            "      copying pyspark\\sql\\window.py -> build\\lib\\pyspark\\sql\n",
            "      copying pyspark\\sql\\__init__.py -> build\\lib\\pyspark\\sql\n",
            "      creating build\\lib\\pyspark\\sql\\avro\n",
            "      copying pyspark\\sql\\avro\\functions.py -> build\\lib\\pyspark\\sql\\avro\n",
            "      copying pyspark\\sql\\avro\\__init__.py -> build\\lib\\pyspark\\sql\\avro\n",
            "      creating build\\lib\\pyspark\\sql\\pandas\n",
            "      copying pyspark\\sql\\pandas\\conversion.py -> build\\lib\\pyspark\\sql\\pandas\n",
            "      copying pyspark\\sql\\pandas\\functions.py -> build\\lib\\pyspark\\sql\\pandas\n",
            "      copying pyspark\\sql\\pandas\\group_ops.py -> build\\lib\\pyspark\\sql\\pandas\n",
            "      copying pyspark\\sql\\pandas\\map_ops.py -> build\\lib\\pyspark\\sql\\pandas\n",
            "      copying pyspark\\sql\\pandas\\serializers.py -> build\\lib\\pyspark\\sql\\pandas\n",
            "      copying pyspark\\sql\\pandas\\typehints.py -> build\\lib\\pyspark\\sql\\pandas\n",
            "      copying pyspark\\sql\\pandas\\types.py -> build\\lib\\pyspark\\sql\\pandas\n",
            "      copying pyspark\\sql\\pandas\\utils.py -> build\\lib\\pyspark\\sql\\pandas\n",
            "      copying pyspark\\sql\\pandas\\__init__.py -> build\\lib\\pyspark\\sql\\pandas\n",
            "      creating build\\lib\\pyspark\\streaming\n",
            "      copying pyspark\\streaming\\context.py -> build\\lib\\pyspark\\streaming\n",
            "      copying pyspark\\streaming\\dstream.py -> build\\lib\\pyspark\\streaming\n",
            "      copying pyspark\\streaming\\kinesis.py -> build\\lib\\pyspark\\streaming\n",
            "      copying pyspark\\streaming\\listener.py -> build\\lib\\pyspark\\streaming\n",
            "      copying pyspark\\streaming\\util.py -> build\\lib\\pyspark\\streaming\n",
            "      copying pyspark\\streaming\\__init__.py -> build\\lib\\pyspark\\streaming\n",
            "      package init file 'deps\\bin\\__init__.py' not found (or not a regular file)\n",
            "      package init file 'deps\\sbin\\__init__.py' not found (or not a regular file)\n",
            "      package init file 'deps\\jars\\__init__.py' not found (or not a regular file)\n",
            "      creating build\\lib\\pyspark\\pandas\n",
            "      copying pyspark\\pandas\\accessors.py -> build\\lib\\pyspark\\pandas\n",
            "      copying pyspark\\pandas\\base.py -> build\\lib\\pyspark\\pandas\n",
            "      copying pyspark\\pandas\\categorical.py -> build\\lib\\pyspark\\pandas\n",
            "      copying pyspark\\pandas\\config.py -> build\\lib\\pyspark\\pandas\n",
            "      copying pyspark\\pandas\\datetimes.py -> build\\lib\\pyspark\\pandas\n",
            "      copying pyspark\\pandas\\exceptions.py -> build\\lib\\pyspark\\pandas\n",
            "      copying pyspark\\pandas\\extensions.py -> build\\lib\\pyspark\\pandas\n",
            "      copying pyspark\\pandas\\frame.py -> build\\lib\\pyspark\\pandas\n",
            "      copying pyspark\\pandas\\generic.py -> build\\lib\\pyspark\\pandas\n",
            "      copying pyspark\\pandas\\groupby.py -> build\\lib\\pyspark\\pandas\n",
            "      copying pyspark\\pandas\\indexing.py -> build\\lib\\pyspark\\pandas\n",
            "      copying pyspark\\pandas\\internal.py -> build\\lib\\pyspark\\pandas\n",
            "      copying pyspark\\pandas\\ml.py -> build\\lib\\pyspark\\pandas\n",
            "      copying pyspark\\pandas\\mlflow.py -> build\\lib\\pyspark\\pandas\n",
            "      copying pyspark\\pandas\\namespace.py -> build\\lib\\pyspark\\pandas\n",
            "      copying pyspark\\pandas\\numpy_compat.py -> build\\lib\\pyspark\\pandas\n",
            "      copying pyspark\\pandas\\series.py -> build\\lib\\pyspark\\pandas\n",
            "      copying pyspark\\pandas\\sql_formatter.py -> build\\lib\\pyspark\\pandas\n",
            "      copying pyspark\\pandas\\sql_processor.py -> build\\lib\\pyspark\\pandas\n",
            "      copying pyspark\\pandas\\strings.py -> build\\lib\\pyspark\\pandas\n",
            "      copying pyspark\\pandas\\utils.py -> build\\lib\\pyspark\\pandas\n",
            "      copying pyspark\\pandas\\window.py -> build\\lib\\pyspark\\pandas\n",
            "      copying pyspark\\pandas\\_typing.py -> build\\lib\\pyspark\\pandas\n",
            "      copying pyspark\\pandas\\__init__.py -> build\\lib\\pyspark\\pandas\n",
            "      creating build\\lib\\pyspark\\pandas\\data_type_ops\n",
            "      copying pyspark\\pandas\\data_type_ops\\base.py -> build\\lib\\pyspark\\pandas\\data_type_ops\n",
            "      copying pyspark\\pandas\\data_type_ops\\binary_ops.py -> build\\lib\\pyspark\\pandas\\data_type_ops\n",
            "      copying pyspark\\pandas\\data_type_ops\\boolean_ops.py -> build\\lib\\pyspark\\pandas\\data_type_ops\n",
            "      copying pyspark\\pandas\\data_type_ops\\categorical_ops.py -> build\\lib\\pyspark\\pandas\\data_type_ops\n",
            "      copying pyspark\\pandas\\data_type_ops\\complex_ops.py -> build\\lib\\pyspark\\pandas\\data_type_ops\n",
            "      copying pyspark\\pandas\\data_type_ops\\datetime_ops.py -> build\\lib\\pyspark\\pandas\\data_type_ops\n",
            "      copying pyspark\\pandas\\data_type_ops\\date_ops.py -> build\\lib\\pyspark\\pandas\\data_type_ops\n",
            "      copying pyspark\\pandas\\data_type_ops\\null_ops.py -> build\\lib\\pyspark\\pandas\\data_type_ops\n",
            "      copying pyspark\\pandas\\data_type_ops\\num_ops.py -> build\\lib\\pyspark\\pandas\\data_type_ops\n",
            "      copying pyspark\\pandas\\data_type_ops\\string_ops.py -> build\\lib\\pyspark\\pandas\\data_type_ops\n",
            "      copying pyspark\\pandas\\data_type_ops\\timedelta_ops.py -> build\\lib\\pyspark\\pandas\\data_type_ops\n",
            "      copying pyspark\\pandas\\data_type_ops\\udt_ops.py -> build\\lib\\pyspark\\pandas\\data_type_ops\n",
            "      copying pyspark\\pandas\\data_type_ops\\__init__.py -> build\\lib\\pyspark\\pandas\\data_type_ops\n",
            "      creating build\\lib\\pyspark\\pandas\\indexes\n",
            "      copying pyspark\\pandas\\indexes\\base.py -> build\\lib\\pyspark\\pandas\\indexes\n",
            "      copying pyspark\\pandas\\indexes\\category.py -> build\\lib\\pyspark\\pandas\\indexes\n",
            "      copying pyspark\\pandas\\indexes\\datetimes.py -> build\\lib\\pyspark\\pandas\\indexes\n",
            "      copying pyspark\\pandas\\indexes\\multi.py -> build\\lib\\pyspark\\pandas\\indexes\n",
            "      copying pyspark\\pandas\\indexes\\numeric.py -> build\\lib\\pyspark\\pandas\\indexes\n",
            "      copying pyspark\\pandas\\indexes\\timedelta.py -> build\\lib\\pyspark\\pandas\\indexes\n",
            "      copying pyspark\\pandas\\indexes\\__init__.py -> build\\lib\\pyspark\\pandas\\indexes\n",
            "      creating build\\lib\\pyspark\\pandas\\missing\n",
            "      copying pyspark\\pandas\\missing\\common.py -> build\\lib\\pyspark\\pandas\\missing\n",
            "      copying pyspark\\pandas\\missing\\frame.py -> build\\lib\\pyspark\\pandas\\missing\n",
            "      copying pyspark\\pandas\\missing\\groupby.py -> build\\lib\\pyspark\\pandas\\missing\n",
            "      copying pyspark\\pandas\\missing\\indexes.py -> build\\lib\\pyspark\\pandas\\missing\n",
            "      copying pyspark\\pandas\\missing\\series.py -> build\\lib\\pyspark\\pandas\\missing\n",
            "      copying pyspark\\pandas\\missing\\window.py -> build\\lib\\pyspark\\pandas\\missing\n",
            "      copying pyspark\\pandas\\missing\\__init__.py -> build\\lib\\pyspark\\pandas\\missing\n",
            "      creating build\\lib\\pyspark\\pandas\\plot\n",
            "      copying pyspark\\pandas\\plot\\core.py -> build\\lib\\pyspark\\pandas\\plot\n",
            "      copying pyspark\\pandas\\plot\\matplotlib.py -> build\\lib\\pyspark\\pandas\\plot\n",
            "      copying pyspark\\pandas\\plot\\plotly.py -> build\\lib\\pyspark\\pandas\\plot\n",
            "      copying pyspark\\pandas\\plot\\__init__.py -> build\\lib\\pyspark\\pandas\\plot\n",
            "      creating build\\lib\\pyspark\\pandas\\spark\n",
            "      copying pyspark\\pandas\\spark\\accessors.py -> build\\lib\\pyspark\\pandas\\spark\n",
            "      copying pyspark\\pandas\\spark\\functions.py -> build\\lib\\pyspark\\pandas\\spark\n",
            "      copying pyspark\\pandas\\spark\\utils.py -> build\\lib\\pyspark\\pandas\\spark\n",
            "      copying pyspark\\pandas\\spark\\__init__.py -> build\\lib\\pyspark\\pandas\\spark\n",
            "      creating build\\lib\\pyspark\\pandas\\typedef\n",
            "      copying pyspark\\pandas\\typedef\\typehints.py -> build\\lib\\pyspark\\pandas\\typedef\n",
            "      copying pyspark\\pandas\\typedef\\__init__.py -> build\\lib\\pyspark\\pandas\\typedef\n",
            "      creating build\\lib\\pyspark\\pandas\\usage_logging\n",
            "      copying pyspark\\pandas\\usage_logging\\usage_logger.py -> build\\lib\\pyspark\\pandas\\usage_logging\n",
            "      copying pyspark\\pandas\\usage_logging\\__init__.py -> build\\lib\\pyspark\\pandas\\usage_logging\n",
            "      package init file 'pyspark\\python\\pyspark\\__init__.py' not found (or not a regular file)\n",
            "      creating build\\lib\\pyspark\\python\n",
            "      creating build\\lib\\pyspark\\python\\pyspark\n",
            "      copying pyspark\\python\\pyspark\\shell.py -> build\\lib\\pyspark\\python\\pyspark\n",
            "      package init file 'lib\\__init__.py' not found (or not a regular file)\n",
            "      package init file 'deps\\data\\__init__.py' not found (or not a regular file)\n",
            "      package init file 'deps\\licenses\\__init__.py' not found (or not a regular file)\n",
            "      creating build\\lib\\pyspark\\resource\n",
            "      copying pyspark\\resource\\information.py -> build\\lib\\pyspark\\resource\n",
            "      copying pyspark\\resource\\profile.py -> build\\lib\\pyspark\\resource\n",
            "      copying pyspark\\resource\\requests.py -> build\\lib\\pyspark\\resource\n",
            "      copying pyspark\\resource\\__init__.py -> build\\lib\\pyspark\\resource\n",
            "      creating build\\lib\\pyspark\\examples\n",
            "      creating build\\lib\\pyspark\\examples\\src\n",
            "      creating build\\lib\\pyspark\\examples\\src\\main\n",
            "      creating build\\lib\\pyspark\\examples\\src\\main\\python\n",
            "      copying deps\\examples\\als.py -> build\\lib\\pyspark\\examples\\src\\main\\python\n",
            "      copying deps\\examples\\avro_inputformat.py -> build\\lib\\pyspark\\examples\\src\\main\\python\n",
            "      copying deps\\examples\\kmeans.py -> build\\lib\\pyspark\\examples\\src\\main\\python\n",
            "      copying deps\\examples\\logistic_regression.py -> build\\lib\\pyspark\\examples\\src\\main\\python\n",
            "      copying deps\\examples\\pagerank.py -> build\\lib\\pyspark\\examples\\src\\main\\python\n",
            "      copying deps\\examples\\parquet_inputformat.py -> build\\lib\\pyspark\\examples\\src\\main\\python\n",
            "      copying deps\\examples\\pi.py -> build\\lib\\pyspark\\examples\\src\\main\\python\n",
            "      copying deps\\examples\\sort.py -> build\\lib\\pyspark\\examples\\src\\main\\python\n",
            "      copying deps\\examples\\status_api_demo.py -> build\\lib\\pyspark\\examples\\src\\main\\python\n",
            "      copying deps\\examples\\transitive_closure.py -> build\\lib\\pyspark\\examples\\src\\main\\python\n",
            "      copying deps\\examples\\wordcount.py -> build\\lib\\pyspark\\examples\\src\\main\\python\n",
            "      copying deps\\examples\\__init__.py -> build\\lib\\pyspark\\examples\\src\\main\\python\n",
            "      running egg_info\n",
            "      writing pyspark.egg-info\\PKG-INFO\n",
            "      writing dependency_links to pyspark.egg-info\\dependency_links.txt\n",
            "      writing requirements to pyspark.egg-info\\requires.txt\n",
            "      writing top-level names to pyspark.egg-info\\top_level.txt\n",
            "      reading manifest file 'pyspark.egg-info\\SOURCES.txt'\n",
            "      reading manifest template 'MANIFEST.in'\n",
            "      warning: no previously-included files matching '*.py[cod]' found anywhere in distribution\n",
            "      warning: no previously-included files matching '__pycache__' found anywhere in distribution\n",
            "      warning: no previously-included files matching '.DS_Store' found anywhere in distribution\n",
            "      writing manifest file 'pyspark.egg-info\\SOURCES.txt'\n",
            "      copying pyspark\\_typing.pyi -> build\\lib\\pyspark\n",
            "      copying pyspark\\py.typed -> build\\lib\\pyspark\n",
            "      copying pyspark\\mllib\\_typing.pyi -> build\\lib\\pyspark\\mllib\n",
            "      copying pyspark\\mllib\\random.pyi -> build\\lib\\pyspark\\mllib\n",
            "      copying pyspark\\mllib\\recommendation.pyi -> build\\lib\\pyspark\\mllib\n",
            "      copying pyspark\\ml\\_typing.pyi -> build\\lib\\pyspark\\ml\n",
            "      copying pyspark\\sql\\_typing.pyi -> build\\lib\\pyspark\\sql\n",
            "      copying pyspark\\sql\\pandas\\functions.pyi -> build\\lib\\pyspark\\sql\\pandas\n",
            "      creating build\\lib\\pyspark\\sql\\pandas\\_typing\n",
            "      copying pyspark\\sql\\pandas\\_typing\\__init__.pyi -> build\\lib\\pyspark\\sql\\pandas\\_typing\n",
            "      creating build\\lib\\pyspark\\sql\\pandas\\_typing\\protocols\n",
            "      copying pyspark\\sql\\pandas\\_typing\\protocols\\__init__.pyi -> build\\lib\\pyspark\\sql\\pandas\\_typing\\protocols\n",
            "      copying pyspark\\sql\\pandas\\_typing\\protocols\\frame.pyi -> build\\lib\\pyspark\\sql\\pandas\\_typing\\protocols\n",
            "      copying pyspark\\sql\\pandas\\_typing\\protocols\\series.pyi -> build\\lib\\pyspark\\sql\\pandas\\_typing\\protocols\n",
            "      creating build\\lib\\pyspark\\bin\n",
            "      copying deps\\bin\\beeline -> build\\lib\\pyspark\\bin\n",
            "      copying deps\\bin\\beeline.cmd -> build\\lib\\pyspark\\bin\n",
            "      copying deps\\bin\\docker-image-tool.sh -> build\\lib\\pyspark\\bin\n",
            "      copying deps\\bin\\find-spark-home -> build\\lib\\pyspark\\bin\n",
            "      copying deps\\bin\\find-spark-home.cmd -> build\\lib\\pyspark\\bin\n",
            "      copying deps\\bin\\load-spark-env.cmd -> build\\lib\\pyspark\\bin\n",
            "      copying deps\\bin\\load-spark-env.sh -> build\\lib\\pyspark\\bin\n",
            "      copying deps\\bin\\pyspark -> build\\lib\\pyspark\\bin\n",
            "      copying deps\\bin\\pyspark.cmd -> build\\lib\\pyspark\\bin\n",
            "      copying deps\\bin\\pyspark2.cmd -> build\\lib\\pyspark\\bin\n",
            "      copying deps\\bin\\run-example -> build\\lib\\pyspark\\bin\n",
            "      copying deps\\bin\\run-example.cmd -> build\\lib\\pyspark\\bin\n",
            "      copying deps\\bin\\spark-class -> build\\lib\\pyspark\\bin\n",
            "      copying deps\\bin\\spark-class.cmd -> build\\lib\\pyspark\\bin\n",
            "      copying deps\\bin\\spark-class2.cmd -> build\\lib\\pyspark\\bin\n",
            "      copying deps\\bin\\spark-shell -> build\\lib\\pyspark\\bin\n",
            "      copying deps\\bin\\spark-shell.cmd -> build\\lib\\pyspark\\bin\n",
            "      copying deps\\bin\\spark-shell2.cmd -> build\\lib\\pyspark\\bin\n",
            "      copying deps\\bin\\spark-sql -> build\\lib\\pyspark\\bin\n",
            "      copying deps\\bin\\spark-sql.cmd -> build\\lib\\pyspark\\bin\n",
            "      copying deps\\bin\\spark-sql2.cmd -> build\\lib\\pyspark\\bin\n",
            "      copying deps\\bin\\spark-submit -> build\\lib\\pyspark\\bin\n",
            "      copying deps\\bin\\spark-submit.cmd -> build\\lib\\pyspark\\bin\n",
            "      copying deps\\bin\\spark-submit2.cmd -> build\\lib\\pyspark\\bin\n",
            "      copying deps\\bin\\sparkR -> build\\lib\\pyspark\\bin\n",
            "      copying deps\\bin\\sparkR.cmd -> build\\lib\\pyspark\\bin\n",
            "      copying deps\\bin\\sparkR2.cmd -> build\\lib\\pyspark\\bin\n",
            "      creating build\\lib\\pyspark\\sbin\n",
            "      copying deps\\sbin\\spark-config.sh -> build\\lib\\pyspark\\sbin\n",
            "      copying deps\\sbin\\spark-daemon.sh -> build\\lib\\pyspark\\sbin\n",
            "      copying deps\\sbin\\start-history-server.sh -> build\\lib\\pyspark\\sbin\n",
            "      copying deps\\sbin\\stop-history-server.sh -> build\\lib\\pyspark\\sbin\n",
            "      creating build\\lib\\pyspark\\jars\n",
            "      copying deps\\jars\\HikariCP-2.5.1.jar -> build\\lib\\pyspark\\jars\n",
            "      copying deps\\jars\\JLargeArrays-1.5.jar -> build\\lib\\pyspark\\jars\n",
            "      copying deps\\jars\\JTransforms-3.1.jar -> build\\lib\\pyspark\\jars\n",
            "      copying deps\\jars\\RoaringBitmap-0.9.25.jar -> build\\lib\\pyspark\\jars\n",
            "      copying deps\\jars\\ST4-4.0.4.jar -> build\\lib\\pyspark\\jars\n",
            "      copying deps\\jars\\activation-1.1.1.jar -> build\\lib\\pyspark\\jars\n",
            "      copying deps\\jars\\aircompressor-0.21.jar -> build\\lib\\pyspark\\jars\n",
            "      copying deps\\jars\\algebra_2.12-2.0.1.jar -> build\\lib\\pyspark\\jars\n",
            "      copying deps\\jars\\annotations-17.0.0.jar -> build\\lib\\pyspark\\jars\n",
            "      copying deps\\jars\\antlr-runtime-3.5.2.jar -> build\\lib\\pyspark\\jars\n",
            "      copying deps\\jars\\antlr4-runtime-4.8.jar -> build\\lib\\pyspark\\jars\n",
            "      copying deps\\jars\\aopalliance-repackaged-2.6.1.jar -> build\\lib\\pyspark\\jars\n",
            "      copying deps\\jars\\arpack-2.2.1.jar -> build\\lib\\pyspark\\jars\n",
            "      copying deps\\jars\\arpack_combined_all-0.1.jar -> build\\lib\\pyspark\\jars\n",
            "      copying deps\\jars\\arrow-format-7.0.0.jar -> build\\lib\\pyspark\\jars\n",
            "      copying deps\\jars\\arrow-memory-core-7.0.0.jar -> build\\lib\\pyspark\\jars\n",
            "      copying deps\\jars\\arrow-memory-netty-7.0.0.jar -> build\\lib\\pyspark\\jars\n",
            "      copying deps\\jars\\arrow-vector-7.0.0.jar -> build\\lib\\pyspark\\jars\n",
            "      copying deps\\jars\\audience-annotations-0.5.0.jar -> build\\lib\\pyspark\\jars\n",
            "      copying deps\\jars\\automaton-1.11-8.jar -> build\\lib\\pyspark\\jars\n",
            "      copying deps\\jars\\avro-1.11.0.jar -> build\\lib\\pyspark\\jars\n",
            "      copying deps\\jars\\avro-ipc-1.11.0.jar -> build\\lib\\pyspark\\jars\n",
            "      copying deps\\jars\\avro-mapred-1.11.0.jar -> build\\lib\\pyspark\\jars\n",
            "      copying deps\\jars\\blas-2.2.1.jar -> build\\lib\\pyspark\\jars\n",
            "      copying deps\\jars\\bonecp-0.8.0.RELEASE.jar -> build\\lib\\pyspark\\jars\n",
            "      copying deps\\jars\\breeze-macros_2.12-1.2.jar -> build\\lib\\pyspark\\jars\n",
            "      copying deps\\jars\\breeze_2.12-1.2.jar -> build\\lib\\pyspark\\jars\n",
            "      copying deps\\jars\\cats-kernel_2.12-2.1.1.jar -> build\\lib\\pyspark\\jars\n",
            "      copying deps\\jars\\chill-java-0.10.0.jar -> build\\lib\\pyspark\\jars\n",
            "      copying deps\\jars\\chill_2.12-0.10.0.jar -> build\\lib\\pyspark\\jars\n",
            "      copying deps\\jars\\commons-cli-1.5.0.jar -> build\\lib\\pyspark\\jars\n",
            "      copying deps\\jars\\commons-codec-1.15.jar -> build\\lib\\pyspark\\jars\n",
            "      copying deps\\jars\\commons-collections-3.2.2.jar -> build\\lib\\pyspark\\jars\n",
            "      copying deps\\jars\\commons-collections4-4.4.jar -> build\\lib\\pyspark\\jars\n",
            "      copying deps\\jars\\commons-compiler-3.0.16.jar -> build\\lib\\pyspark\\jars\n",
            "      copying deps\\jars\\commons-compress-1.21.jar -> build\\lib\\pyspark\\jars\n",
            "      copying deps\\jars\\commons-crypto-1.1.0.jar -> build\\lib\\pyspark\\jars\n",
            "      copying deps\\jars\\commons-dbcp-1.4.jar -> build\\lib\\pyspark\\jars\n",
            "      copying deps\\jars\\commons-io-2.11.0.jar -> build\\lib\\pyspark\\jars\n",
            "      copying deps\\jars\\commons-lang-2.6.jar -> build\\lib\\pyspark\\jars\n",
            "      copying deps\\jars\\commons-lang3-3.12.0.jar -> build\\lib\\pyspark\\jars\n",
            "      copying deps\\jars\\commons-logging-1.1.3.jar -> build\\lib\\pyspark\\jars\n",
            "      copying deps\\jars\\commons-math3-3.6.1.jar -> build\\lib\\pyspark\\jars\n",
            "      copying deps\\jars\\commons-pool-1.5.4.jar -> build\\lib\\pyspark\\jars\n",
            "      copying deps\\jars\\commons-text-1.9.jar -> build\\lib\\pyspark\\jars\n",
            "      copying deps\\jars\\compress-lzf-1.1.jar -> build\\lib\\pyspark\\jars\n",
            "      copying deps\\jars\\core-1.1.2.jar -> build\\lib\\pyspark\\jars\n",
            "      copying deps\\jars\\curator-client-2.13.0.jar -> build\\lib\\pyspark\\jars\n",
            "      copying deps\\jars\\curator-framework-2.13.0.jar -> build\\lib\\pyspark\\jars\n",
            "      copying deps\\jars\\curator-recipes-2.13.0.jar -> build\\lib\\pyspark\\jars\n",
            "      copying deps\\jars\\datanucleus-api-jdo-4.2.4.jar -> build\\lib\\pyspark\\jars\n",
            "      copying deps\\jars\\datanucleus-core-4.1.17.jar -> build\\lib\\pyspark\\jars\n",
            "      copying deps\\jars\\datanucleus-rdbms-4.1.19.jar -> build\\lib\\pyspark\\jars\n",
            "      copying deps\\jars\\derby-10.14.2.0.jar -> build\\lib\\pyspark\\jars\n",
            "      copying deps\\jars\\dropwizard-metrics-hadoop-metrics2-reporter-0.1.2.jar -> build\\lib\\pyspark\\jars\n",
            "      copying deps\\jars\\flatbuffers-java-1.12.0.jar -> build\\lib\\pyspark\\jars\n",
            "      copying deps\\jars\\generex-1.0.2.jar -> build\\lib\\pyspark\\jars\n",
            "      copying deps\\jars\\gson-2.2.4.jar -> build\\lib\\pyspark\\jars\n",
            "      copying deps\\jars\\guava-14.0.1.jar -> build\\lib\\pyspark\\jars\n",
            "      copying deps\\jars\\hadoop-client-api-3.3.2.jar -> build\\lib\\pyspark\\jars\n",
            "      copying deps\\jars\\hadoop-client-runtime-3.3.2.jar -> build\\lib\\pyspark\\jars\n",
            "      copying deps\\jars\\hadoop-shaded-guava-1.1.1.jar -> build\\lib\\pyspark\\jars\n",
            "      copying deps\\jars\\hadoop-yarn-server-web-proxy-3.3.2.jar -> build\\lib\\pyspark\\jars\n",
            "      copying deps\\jars\\hive-beeline-2.3.9.jar -> build\\lib\\pyspark\\jars\n",
            "      copying deps\\jars\\hive-cli-2.3.9.jar -> build\\lib\\pyspark\\jars\n",
            "      copying deps\\jars\\hive-common-2.3.9.jar -> build\\lib\\pyspark\\jars\n",
            "      copying deps\\jars\\hive-exec-2.3.9-core.jar -> build\\lib\\pyspark\\jars\n",
            "      copying deps\\jars\\hive-jdbc-2.3.9.jar -> build\\lib\\pyspark\\jars\n",
            "      copying deps\\jars\\hive-llap-common-2.3.9.jar -> build\\lib\\pyspark\\jars\n",
            "      copying deps\\jars\\hive-metastore-2.3.9.jar -> build\\lib\\pyspark\\jars\n",
            "      copying deps\\jars\\hive-serde-2.3.9.jar -> build\\lib\\pyspark\\jars\n",
            "      copying deps\\jars\\hive-service-rpc-3.1.2.jar -> build\\lib\\pyspark\\jars\n",
            "      copying deps\\jars\\hive-shims-0.23-2.3.9.jar -> build\\lib\\pyspark\\jars\n",
            "      copying deps\\jars\\hive-shims-2.3.9.jar -> build\\lib\\pyspark\\jars\n",
            "      copying deps\\jars\\hive-shims-common-2.3.9.jar -> build\\lib\\pyspark\\jars\n",
            "      copying deps\\jars\\hive-shims-scheduler-2.3.9.jar -> build\\lib\\pyspark\\jars\n",
            "      copying deps\\jars\\hive-storage-api-2.7.2.jar -> build\\lib\\pyspark\\jars\n",
            "      copying deps\\jars\\hive-vector-code-gen-2.3.9.jar -> build\\lib\\pyspark\\jars\n",
            "      copying deps\\jars\\hk2-api-2.6.1.jar -> build\\lib\\pyspark\\jars\n",
            "      copying deps\\jars\\hk2-locator-2.6.1.jar -> build\\lib\\pyspark\\jars\n",
            "      copying deps\\jars\\hk2-utils-2.6.1.jar -> build\\lib\\pyspark\\jars\n",
            "      copying deps\\jars\\httpclient-4.5.13.jar -> build\\lib\\pyspark\\jars\n",
            "      copying deps\\jars\\httpcore-4.4.14.jar -> build\\lib\\pyspark\\jars\n",
            "      copying deps\\jars\\istack-commons-runtime-3.0.8.jar -> build\\lib\\pyspark\\jars\n",
            "      copying deps\\jars\\ivy-2.5.0.jar -> build\\lib\\pyspark\\jars\n",
            "      copying deps\\jars\\jackson-annotations-2.13.3.jar -> build\\lib\\pyspark\\jars\n",
            "      copying deps\\jars\\jackson-core-2.13.3.jar -> build\\lib\\pyspark\\jars\n",
            "      copying deps\\jars\\jackson-core-asl-1.9.13.jar -> build\\lib\\pyspark\\jars\n",
            "      copying deps\\jars\\jackson-databind-2.13.3.jar -> build\\lib\\pyspark\\jars\n",
            "      copying deps\\jars\\jackson-dataformat-yaml-2.13.3.jar -> build\\lib\\pyspark\\jars\n",
            "      copying deps\\jars\\jackson-datatype-jsr310-2.13.3.jar -> build\\lib\\pyspark\\jars\n",
            "      copying deps\\jars\\jackson-mapper-asl-1.9.13.jar -> build\\lib\\pyspark\\jars\n",
            "      copying deps\\jars\\jackson-module-scala_2.12-2.13.3.jar -> build\\lib\\pyspark\\jars\n",
            "      copying deps\\jars\\jakarta.annotation-api-1.3.5.jar -> build\\lib\\pyspark\\jars\n",
            "      copying deps\\jars\\jakarta.inject-2.6.1.jar -> build\\lib\\pyspark\\jars\n",
            "      copying deps\\jars\\jakarta.servlet-api-4.0.3.jar -> build\\lib\\pyspark\\jars\n",
            "      copying deps\\jars\\jakarta.validation-api-2.0.2.jar -> build\\lib\\pyspark\\jars\n",
            "      copying deps\\jars\\jakarta.ws.rs-api-2.1.6.jar -> build\\lib\\pyspark\\jars\n",
            "      copying deps\\jars\\jakarta.xml.bind-api-2.3.2.jar -> build\\lib\\pyspark\\jars\n",
            "      copying deps\\jars\\janino-3.0.16.jar -> build\\lib\\pyspark\\jars\n",
            "      copying deps\\jars\\javassist-3.25.0-GA.jar -> build\\lib\\pyspark\\jars\n",
            "      copying deps\\jars\\javax.jdo-3.2.0-m3.jar -> build\\lib\\pyspark\\jars\n",
            "      copying deps\\jars\\javolution-5.5.1.jar -> build\\lib\\pyspark\\jars\n",
            "      copying deps\\jars\\jaxb-runtime-2.3.2.jar -> build\\lib\\pyspark\\jars\n",
            "      copying deps\\jars\\jcl-over-slf4j-1.7.32.jar -> build\\lib\\pyspark\\jars\n",
            "      copying deps\\jars\\jdo-api-3.0.1.jar -> build\\lib\\pyspark\\jars\n",
            "      copying deps\\jars\\jersey-client-2.34.jar -> build\\lib\\pyspark\\jars\n",
            "      copying deps\\jars\\jersey-common-2.34.jar -> build\\lib\\pyspark\\jars\n",
            "      copying deps\\jars\\jersey-container-servlet-2.34.jar -> build\\lib\\pyspark\\jars\n",
            "      copying deps\\jars\\jersey-container-servlet-core-2.34.jar -> build\\lib\\pyspark\\jars\n",
            "      copying deps\\jars\\jersey-hk2-2.34.jar -> build\\lib\\pyspark\\jars\n",
            "      copying deps\\jars\\jersey-server-2.34.jar -> build\\lib\\pyspark\\jars\n",
            "      copying deps\\jars\\jline-2.14.6.jar -> build\\lib\\pyspark\\jars\n",
            "      copying deps\\jars\\joda-time-2.10.13.jar -> build\\lib\\pyspark\\jars\n",
            "      copying deps\\jars\\jodd-core-3.5.2.jar -> build\\lib\\pyspark\\jars\n",
            "      copying deps\\jars\\jpam-1.1.jar -> build\\lib\\pyspark\\jars\n",
            "      copying deps\\jars\\json-1.8.jar -> build\\lib\\pyspark\\jars\n",
            "      copying deps\\jars\\json4s-ast_2.12-3.7.0-M11.jar -> build\\lib\\pyspark\\jars\n",
            "      copying deps\\jars\\json4s-core_2.12-3.7.0-M11.jar -> build\\lib\\pyspark\\jars\n",
            "      copying deps\\jars\\json4s-jackson_2.12-3.7.0-M11.jar -> build\\lib\\pyspark\\jars\n",
            "      copying deps\\jars\\json4s-scalap_2.12-3.7.0-M11.jar -> build\\lib\\pyspark\\jars\n",
            "      copying deps\\jars\\jsr305-3.0.0.jar -> build\\lib\\pyspark\\jars\n",
            "      copying deps\\jars\\jta-1.1.jar -> build\\lib\\pyspark\\jars\n",
            "      copying deps\\jars\\jul-to-slf4j-1.7.32.jar -> build\\lib\\pyspark\\jars\n",
            "      copying deps\\jars\\kryo-shaded-4.0.2.jar -> build\\lib\\pyspark\\jars\n",
            "      copying deps\\jars\\kubernetes-client-5.12.2.jar -> build\\lib\\pyspark\\jars\n",
            "      copying deps\\jars\\kubernetes-model-admissionregistration-5.12.2.jar -> build\\lib\\pyspark\\jars\n",
            "      copying deps\\jars\\kubernetes-model-apiextensions-5.12.2.jar -> build\\lib\\pyspark\\jars\n",
            "      copying deps\\jars\\kubernetes-model-apps-5.12.2.jar -> build\\lib\\pyspark\\jars\n",
            "      copying deps\\jars\\kubernetes-model-autoscaling-5.12.2.jar -> build\\lib\\pyspark\\jars\n",
            "      copying deps\\jars\\kubernetes-model-batch-5.12.2.jar -> build\\lib\\pyspark\\jars\n",
            "      copying deps\\jars\\kubernetes-model-certificates-5.12.2.jar -> build\\lib\\pyspark\\jars\n",
            "      copying deps\\jars\\kubernetes-model-common-5.12.2.jar -> build\\lib\\pyspark\\jars\n",
            "      copying deps\\jars\\kubernetes-model-coordination-5.12.2.jar -> build\\lib\\pyspark\\jars\n",
            "      copying deps\\jars\\kubernetes-model-core-5.12.2.jar -> build\\lib\\pyspark\\jars\n",
            "      copying deps\\jars\\kubernetes-model-discovery-5.12.2.jar -> build\\lib\\pyspark\\jars\n",
            "      copying deps\\jars\\kubernetes-model-events-5.12.2.jar -> build\\lib\\pyspark\\jars\n",
            "      copying deps\\jars\\kubernetes-model-extensions-5.12.2.jar -> build\\lib\\pyspark\\jars\n",
            "      copying deps\\jars\\kubernetes-model-flowcontrol-5.12.2.jar -> build\\lib\\pyspark\\jars\n",
            "      copying deps\\jars\\kubernetes-model-metrics-5.12.2.jar -> build\\lib\\pyspark\\jars\n",
            "      copying deps\\jars\\kubernetes-model-networking-5.12.2.jar -> build\\lib\\pyspark\\jars\n",
            "      copying deps\\jars\\kubernetes-model-node-5.12.2.jar -> build\\lib\\pyspark\\jars\n",
            "      copying deps\\jars\\kubernetes-model-policy-5.12.2.jar -> build\\lib\\pyspark\\jars\n",
            "      copying deps\\jars\\kubernetes-model-rbac-5.12.2.jar -> build\\lib\\pyspark\\jars\n",
            "      copying deps\\jars\\kubernetes-model-scheduling-5.12.2.jar -> build\\lib\\pyspark\\jars\n",
            "      copying deps\\jars\\kubernetes-model-storageclass-5.12.2.jar -> build\\lib\\pyspark\\jars\n",
            "      copying deps\\jars\\lapack-2.2.1.jar -> build\\lib\\pyspark\\jars\n",
            "      copying deps\\jars\\leveldbjni-all-1.8.jar -> build\\lib\\pyspark\\jars\n",
            "      copying deps\\jars\\libfb303-0.9.3.jar -> build\\lib\\pyspark\\jars\n",
            "      copying deps\\jars\\libthrift-0.12.0.jar -> build\\lib\\pyspark\\jars\n",
            "      copying deps\\jars\\log4j-1.2-api-2.17.2.jar -> build\\lib\\pyspark\\jars\n",
            "      copying deps\\jars\\log4j-api-2.17.2.jar -> build\\lib\\pyspark\\jars\n",
            "      copying deps\\jars\\log4j-core-2.17.2.jar -> build\\lib\\pyspark\\jars\n",
            "      copying deps\\jars\\log4j-slf4j-impl-2.17.2.jar -> build\\lib\\pyspark\\jars\n",
            "      copying deps\\jars\\logging-interceptor-3.12.12.jar -> build\\lib\\pyspark\\jars\n",
            "      copying deps\\jars\\lz4-java-1.8.0.jar -> build\\lib\\pyspark\\jars\n",
            "      copying deps\\jars\\mesos-1.4.3-shaded-protobuf.jar -> build\\lib\\pyspark\\jars\n",
            "      copying deps\\jars\\metrics-core-4.2.7.jar -> build\\lib\\pyspark\\jars\n",
            "      copying deps\\jars\\metrics-graphite-4.2.7.jar -> build\\lib\\pyspark\\jars\n",
            "      copying deps\\jars\\metrics-jmx-4.2.7.jar -> build\\lib\\pyspark\\jars\n",
            "      copying deps\\jars\\metrics-json-4.2.7.jar -> build\\lib\\pyspark\\jars\n",
            "      copying deps\\jars\\metrics-jvm-4.2.7.jar -> build\\lib\\pyspark\\jars\n",
            "      copying deps\\jars\\minlog-1.3.0.jar -> build\\lib\\pyspark\\jars\n",
            "      copying deps\\jars\\netty-all-4.1.74.Final.jar -> build\\lib\\pyspark\\jars\n",
            "      copying deps\\jars\\netty-buffer-4.1.74.Final.jar -> build\\lib\\pyspark\\jars\n",
            "      copying deps\\jars\\netty-codec-4.1.74.Final.jar -> build\\lib\\pyspark\\jars\n",
            "      copying deps\\jars\\netty-common-4.1.74.Final.jar -> build\\lib\\pyspark\\jars\n",
            "      copying deps\\jars\\netty-handler-4.1.74.Final.jar -> build\\lib\\pyspark\\jars\n",
            "      copying deps\\jars\\netty-resolver-4.1.74.Final.jar -> build\\lib\\pyspark\\jars\n",
            "      copying deps\\jars\\netty-tcnative-classes-2.0.48.Final.jar -> build\\lib\\pyspark\\jars\n",
            "      copying deps\\jars\\netty-transport-4.1.74.Final.jar -> build\\lib\\pyspark\\jars\n",
            "      copying deps\\jars\\netty-transport-classes-epoll-4.1.74.Final.jar -> build\\lib\\pyspark\\jars\n",
            "      copying deps\\jars\\netty-transport-classes-kqueue-4.1.74.Final.jar -> build\\lib\\pyspark\\jars\n",
            "      copying deps\\jars\\netty-transport-native-epoll-4.1.74.Final-linux-aarch_64.jar -> build\\lib\\pyspark\\jars\n",
            "      copying deps\\jars\\netty-transport-native-epoll-4.1.74.Final-linux-x86_64.jar -> build\\lib\\pyspark\\jars\n",
            "      copying deps\\jars\\netty-transport-native-kqueue-4.1.74.Final-osx-aarch_64.jar -> build\\lib\\pyspark\\jars\n",
            "      copying deps\\jars\\netty-transport-native-kqueue-4.1.74.Final-osx-x86_64.jar -> build\\lib\\pyspark\\jars\n",
            "      copying deps\\jars\\netty-transport-native-unix-common-4.1.74.Final.jar -> build\\lib\\pyspark\\jars\n",
            "      copying deps\\jars\\objenesis-3.2.jar -> build\\lib\\pyspark\\jars\n",
            "      copying deps\\jars\\okhttp-3.12.12.jar -> build\\lib\\pyspark\\jars\n",
            "      copying deps\\jars\\okio-1.14.0.jar -> build\\lib\\pyspark\\jars\n",
            "      copying deps\\jars\\opencsv-2.3.jar -> build\\lib\\pyspark\\jars\n",
            "      copying deps\\jars\\orc-core-1.7.4.jar -> build\\lib\\pyspark\\jars\n",
            "      copying deps\\jars\\orc-mapreduce-1.7.4.jar -> build\\lib\\pyspark\\jars\n",
            "      copying deps\\jars\\orc-shims-1.7.4.jar -> build\\lib\\pyspark\\jars\n",
            "      copying deps\\jars\\oro-2.0.8.jar -> build\\lib\\pyspark\\jars\n",
            "      copying deps\\jars\\osgi-resource-locator-1.0.3.jar -> build\\lib\\pyspark\\jars\n",
            "      copying deps\\jars\\paranamer-2.8.jar -> build\\lib\\pyspark\\jars\n",
            "      copying deps\\jars\\parquet-column-1.12.2.jar -> build\\lib\\pyspark\\jars\n",
            "      copying deps\\jars\\parquet-common-1.12.2.jar -> build\\lib\\pyspark\\jars\n",
            "      copying deps\\jars\\parquet-encoding-1.12.2.jar -> build\\lib\\pyspark\\jars\n",
            "      copying deps\\jars\\parquet-format-structures-1.12.2.jar -> build\\lib\\pyspark\\jars\n",
            "      copying deps\\jars\\parquet-hadoop-1.12.2.jar -> build\\lib\\pyspark\\jars\n",
            "      copying deps\\jars\\parquet-jackson-1.12.2.jar -> build\\lib\\pyspark\\jars\n",
            "      copying deps\\jars\\pickle-1.2.jar -> build\\lib\\pyspark\\jars\n",
            "      copying deps\\jars\\protobuf-java-2.5.0.jar -> build\\lib\\pyspark\\jars\n",
            "      copying deps\\jars\\py4j-0.10.9.5.jar -> build\\lib\\pyspark\\jars\n",
            "      copying deps\\jars\\rocksdbjni-6.20.3.jar -> build\\lib\\pyspark\\jars\n",
            "      copying deps\\jars\\scala-collection-compat_2.12-2.1.1.jar -> build\\lib\\pyspark\\jars\n",
            "      copying deps\\jars\\scala-compiler-2.12.15.jar -> build\\lib\\pyspark\\jars\n",
            "      copying deps\\jars\\scala-library-2.12.15.jar -> build\\lib\\pyspark\\jars\n",
            "      copying deps\\jars\\scala-parser-combinators_2.12-1.1.2.jar -> build\\lib\\pyspark\\jars\n",
            "      copying deps\\jars\\scala-reflect-2.12.15.jar -> build\\lib\\pyspark\\jars\n",
            "      copying deps\\jars\\scala-xml_2.12-1.2.0.jar -> build\\lib\\pyspark\\jars\n",
            "      copying deps\\jars\\shapeless_2.12-2.3.7.jar -> build\\lib\\pyspark\\jars\n",
            "      copying deps\\jars\\shims-0.9.25.jar -> build\\lib\\pyspark\\jars\n",
            "      copying deps\\jars\\slf4j-api-1.7.32.jar -> build\\lib\\pyspark\\jars\n",
            "      copying deps\\jars\\snakeyaml-1.30.jar -> build\\lib\\pyspark\\jars\n",
            "      copying deps\\jars\\snappy-java-1.1.8.4.jar -> build\\lib\\pyspark\\jars\n",
            "      copying deps\\jars\\spark-catalyst_2.12-3.3.0.jar -> build\\lib\\pyspark\\jars\n",
            "      copying deps\\jars\\spark-core_2.12-3.3.0.jar -> build\\lib\\pyspark\\jars\n",
            "      copying deps\\jars\\spark-graphx_2.12-3.3.0.jar -> build\\lib\\pyspark\\jars\n",
            "      copying deps\\jars\\spark-hive-thriftserver_2.12-3.3.0.jar -> build\\lib\\pyspark\\jars\n",
            "      copying deps\\jars\\spark-hive_2.12-3.3.0.jar -> build\\lib\\pyspark\\jars\n",
            "      copying deps\\jars\\spark-kubernetes_2.12-3.3.0.jar -> build\\lib\\pyspark\\jars\n",
            "      copying deps\\jars\\spark-kvstore_2.12-3.3.0.jar -> build\\lib\\pyspark\\jars\n",
            "      copying deps\\jars\\spark-launcher_2.12-3.3.0.jar -> build\\lib\\pyspark\\jars\n",
            "      copying deps\\jars\\spark-mesos_2.12-3.3.0.jar -> build\\lib\\pyspark\\jars\n",
            "      copying deps\\jars\\spark-mllib-local_2.12-3.3.0.jar -> build\\lib\\pyspark\\jars\n",
            "      copying deps\\jars\\spark-mllib_2.12-3.3.0.jar -> build\\lib\\pyspark\\jars\n",
            "      copying deps\\jars\\spark-network-common_2.12-3.3.0.jar -> build\\lib\\pyspark\\jars\n",
            "      copying deps\\jars\\spark-network-shuffle_2.12-3.3.0.jar -> build\\lib\\pyspark\\jars\n",
            "      copying deps\\jars\\spark-repl_2.12-3.3.0.jar -> build\\lib\\pyspark\\jars\n",
            "      copying deps\\jars\\spark-sketch_2.12-3.3.0.jar -> build\\lib\\pyspark\\jars\n",
            "      copying deps\\jars\\spark-sql_2.12-3.3.0.jar -> build\\lib\\pyspark\\jars\n",
            "      copying deps\\jars\\spark-streaming_2.12-3.3.0.jar -> build\\lib\\pyspark\\jars\n",
            "      copying deps\\jars\\spark-tags_2.12-3.3.0-tests.jar -> build\\lib\\pyspark\\jars\n",
            "      copying deps\\jars\\spark-tags_2.12-3.3.0.jar -> build\\lib\\pyspark\\jars\n",
            "      copying deps\\jars\\spark-unsafe_2.12-3.3.0.jar -> build\\lib\\pyspark\\jars\n",
            "      copying deps\\jars\\spark-yarn_2.12-3.3.0.jar -> build\\lib\\pyspark\\jars\n",
            "      copying deps\\jars\\spire-macros_2.12-0.17.0.jar -> build\\lib\\pyspark\\jars\n",
            "      copying deps\\jars\\spire-platform_2.12-0.17.0.jar -> build\\lib\\pyspark\\jars\n",
            "      copying deps\\jars\\spire-util_2.12-0.17.0.jar -> build\\lib\\pyspark\\jars\n",
            "      copying deps\\jars\\spire_2.12-0.17.0.jar -> build\\lib\\pyspark\\jars\n",
            "      copying deps\\jars\\stax-api-1.0.1.jar -> build\\lib\\pyspark\\jars\n",
            "      copying deps\\jars\\stream-2.9.6.jar -> build\\lib\\pyspark\\jars\n",
            "      copying deps\\jars\\super-csv-2.2.0.jar -> build\\lib\\pyspark\\jars\n",
            "      copying deps\\jars\\threeten-extra-1.5.0.jar -> build\\lib\\pyspark\\jars\n",
            "      copying deps\\jars\\tink-1.6.1.jar -> build\\lib\\pyspark\\jars\n",
            "      copying deps\\jars\\transaction-api-1.1.jar -> build\\lib\\pyspark\\jars\n",
            "      copying deps\\jars\\univocity-parsers-2.9.1.jar -> build\\lib\\pyspark\\jars\n",
            "      copying deps\\jars\\velocity-1.5.jar -> build\\lib\\pyspark\\jars\n",
            "      copying deps\\jars\\xbean-asm9-shaded-4.20.jar -> build\\lib\\pyspark\\jars\n",
            "      copying deps\\jars\\xz-1.8.jar -> build\\lib\\pyspark\\jars\n",
            "      copying deps\\jars\\zjsonpatch-0.3.0.jar -> build\\lib\\pyspark\\jars\n",
            "      copying deps\\jars\\zookeeper-3.6.2.jar -> build\\lib\\pyspark\\jars\n",
            "      copying deps\\jars\\zookeeper-jute-3.6.2.jar -> build\\lib\\pyspark\\jars\n",
            "      copying deps\\jars\\zstd-jni-1.5.2-1.jar -> build\\lib\\pyspark\\jars\n",
            "      creating build\\lib\\pyspark\\python\\lib\n",
            "      copying lib\\py4j-0.10.9.5-src.zip -> build\\lib\\pyspark\\python\\lib\n",
            "      copying lib\\pyspark.zip -> build\\lib\\pyspark\\python\\lib\n",
            "      creating build\\lib\\pyspark\\data\n",
            "      creating build\\lib\\pyspark\\data\\graphx\n",
            "      copying deps\\data\\graphx\\followers.txt -> build\\lib\\pyspark\\data\\graphx\n",
            "      copying deps\\data\\graphx\\users.txt -> build\\lib\\pyspark\\data\\graphx\n",
            "      creating build\\lib\\pyspark\\data\\mllib\n",
            "      copying deps\\data\\mllib\\gmm_data.txt -> build\\lib\\pyspark\\data\\mllib\n",
            "      copying deps\\data\\mllib\\kmeans_data.txt -> build\\lib\\pyspark\\data\\mllib\n",
            "      copying deps\\data\\mllib\\pagerank_data.txt -> build\\lib\\pyspark\\data\\mllib\n",
            "      copying deps\\data\\mllib\\pic_data.txt -> build\\lib\\pyspark\\data\\mllib\n",
            "      copying deps\\data\\mllib\\sample_binary_classification_data.txt -> build\\lib\\pyspark\\data\\mllib\n",
            "      copying deps\\data\\mllib\\sample_fpgrowth.txt -> build\\lib\\pyspark\\data\\mllib\n",
            "      copying deps\\data\\mllib\\sample_isotonic_regression_libsvm_data.txt -> build\\lib\\pyspark\\data\\mllib\n",
            "      copying deps\\data\\mllib\\sample_kmeans_data.txt -> build\\lib\\pyspark\\data\\mllib\n",
            "      copying deps\\data\\mllib\\sample_lda_data.txt -> build\\lib\\pyspark\\data\\mllib\n",
            "      copying deps\\data\\mllib\\sample_lda_libsvm_data.txt -> build\\lib\\pyspark\\data\\mllib\n",
            "      copying deps\\data\\mllib\\sample_libsvm_data.txt -> build\\lib\\pyspark\\data\\mllib\n",
            "      copying deps\\data\\mllib\\sample_linear_regression_data.txt -> build\\lib\\pyspark\\data\\mllib\n",
            "      copying deps\\data\\mllib\\sample_movielens_data.txt -> build\\lib\\pyspark\\data\\mllib\n",
            "      copying deps\\data\\mllib\\sample_multiclass_classification_data.txt -> build\\lib\\pyspark\\data\\mllib\n",
            "      copying deps\\data\\mllib\\sample_svm_data.txt -> build\\lib\\pyspark\\data\\mllib\n",
            "      copying deps\\data\\mllib\\streaming_kmeans_data_test.txt -> build\\lib\\pyspark\\data\\mllib\n",
            "      creating build\\lib\\pyspark\\data\\mllib\\als\n",
            "      copying deps\\data\\mllib\\als\\sample_movielens_ratings.txt -> build\\lib\\pyspark\\data\\mllib\\als\n",
            "      copying deps\\data\\mllib\\als\\test.data -> build\\lib\\pyspark\\data\\mllib\\als\n",
            "      creating build\\lib\\pyspark\\data\\mllib\\images\n",
            "      copying deps\\data\\mllib\\images\\license.txt -> build\\lib\\pyspark\\data\\mllib\\images\n",
            "      creating build\\lib\\pyspark\\data\\mllib\\images\\origin\n",
            "      copying deps\\data\\mllib\\images\\origin\\license.txt -> build\\lib\\pyspark\\data\\mllib\\images\\origin\n",
            "      creating build\\lib\\pyspark\\data\\mllib\\images\\origin\\kittens\n",
            "      copying deps\\data\\mllib\\images\\origin\\kittens\\not-image.txt -> build\\lib\\pyspark\\data\\mllib\\images\\origin\\kittens\n",
            "      creating build\\lib\\pyspark\\data\\mllib\\ridge-data\n",
            "      copying deps\\data\\mllib\\ridge-data\\lpsa.data -> build\\lib\\pyspark\\data\\mllib\\ridge-data\n",
            "      creating build\\lib\\pyspark\\data\\streaming\n",
            "      copying deps\\data\\streaming\\AFINN-111.txt -> build\\lib\\pyspark\\data\\streaming\n",
            "      creating build\\lib\\pyspark\\licenses\n",
            "      copying deps\\licenses\\LICENSE-AnchorJS.txt -> build\\lib\\pyspark\\licenses\n",
            "      copying deps\\licenses\\LICENSE-CC0.txt -> build\\lib\\pyspark\\licenses\n",
            "      copying deps\\licenses\\LICENSE-bootstrap.txt -> build\\lib\\pyspark\\licenses\n",
            "      copying deps\\licenses\\LICENSE-cloudpickle.txt -> build\\lib\\pyspark\\licenses\n",
            "      copying deps\\licenses\\LICENSE-copybutton.txt -> build\\lib\\pyspark\\licenses\n",
            "      copying deps\\licenses\\LICENSE-d3.min.js.txt -> build\\lib\\pyspark\\licenses\n",
            "      copying deps\\licenses\\LICENSE-dagre-d3.txt -> build\\lib\\pyspark\\licenses\n",
            "      copying deps\\licenses\\LICENSE-datatables.txt -> build\\lib\\pyspark\\licenses\n",
            "      copying deps\\licenses\\LICENSE-graphlib-dot.txt -> build\\lib\\pyspark\\licenses\n",
            "      copying deps\\licenses\\LICENSE-jdom.txt -> build\\lib\\pyspark\\licenses\n",
            "      copying deps\\licenses\\LICENSE-join.txt -> build\\lib\\pyspark\\licenses\n",
            "      copying deps\\licenses\\LICENSE-jquery.txt -> build\\lib\\pyspark\\licenses\n",
            "      copying deps\\licenses\\LICENSE-json-formatter.txt -> build\\lib\\pyspark\\licenses\n",
            "      copying deps\\licenses\\LICENSE-matchMedia-polyfill.txt -> build\\lib\\pyspark\\licenses\n",
            "      copying deps\\licenses\\LICENSE-modernizr.txt -> build\\lib\\pyspark\\licenses\n",
            "      copying deps\\licenses\\LICENSE-mustache.txt -> build\\lib\\pyspark\\licenses\n",
            "      copying deps\\licenses\\LICENSE-py4j.txt -> build\\lib\\pyspark\\licenses\n",
            "      copying deps\\licenses\\LICENSE-respond.txt -> build\\lib\\pyspark\\licenses\n",
            "      copying deps\\licenses\\LICENSE-sbt-launch-lib.txt -> build\\lib\\pyspark\\licenses\n",
            "      copying deps\\licenses\\LICENSE-sorttable.js.txt -> build\\lib\\pyspark\\licenses\n",
            "      copying deps\\licenses\\LICENSE-vis-timeline.txt -> build\\lib\\pyspark\\licenses\n",
            "      creating build\\lib\\pyspark\\examples\\src\\main\\python\\ml\n",
            "      copying deps\\examples\\ml\\aft_survival_regression.py -> build\\lib\\pyspark\\examples\\src\\main\\python\\ml\n",
            "      copying deps\\examples\\ml\\als_example.py -> build\\lib\\pyspark\\examples\\src\\main\\python\\ml\n",
            "      copying deps\\examples\\ml\\binarizer_example.py -> build\\lib\\pyspark\\examples\\src\\main\\python\\ml\n",
            "      copying deps\\examples\\ml\\bisecting_k_means_example.py -> build\\lib\\pyspark\\examples\\src\\main\\python\\ml\n",
            "      copying deps\\examples\\ml\\bucketed_random_projection_lsh_example.py -> build\\lib\\pyspark\\examples\\src\\main\\python\\ml\n",
            "      copying deps\\examples\\ml\\bucketizer_example.py -> build\\lib\\pyspark\\examples\\src\\main\\python\\ml\n",
            "      copying deps\\examples\\ml\\chi_square_test_example.py -> build\\lib\\pyspark\\examples\\src\\main\\python\\ml\n",
            "      copying deps\\examples\\ml\\chisq_selector_example.py -> build\\lib\\pyspark\\examples\\src\\main\\python\\ml\n",
            "      copying deps\\examples\\ml\\correlation_example.py -> build\\lib\\pyspark\\examples\\src\\main\\python\\ml\n",
            "      copying deps\\examples\\ml\\count_vectorizer_example.py -> build\\lib\\pyspark\\examples\\src\\main\\python\\ml\n",
            "      copying deps\\examples\\ml\\cross_validator.py -> build\\lib\\pyspark\\examples\\src\\main\\python\\ml\n",
            "      copying deps\\examples\\ml\\dataframe_example.py -> build\\lib\\pyspark\\examples\\src\\main\\python\\ml\n",
            "      copying deps\\examples\\ml\\dct_example.py -> build\\lib\\pyspark\\examples\\src\\main\\python\\ml\n",
            "      copying deps\\examples\\ml\\decision_tree_classification_example.py -> build\\lib\\pyspark\\examples\\src\\main\\python\\ml\n",
            "      copying deps\\examples\\ml\\decision_tree_regression_example.py -> build\\lib\\pyspark\\examples\\src\\main\\python\\ml\n",
            "      copying deps\\examples\\ml\\elementwise_product_example.py -> build\\lib\\pyspark\\examples\\src\\main\\python\\ml\n",
            "      copying deps\\examples\\ml\\estimator_transformer_param_example.py -> build\\lib\\pyspark\\examples\\src\\main\\python\\ml\n",
            "      copying deps\\examples\\ml\\feature_hasher_example.py -> build\\lib\\pyspark\\examples\\src\\main\\python\\ml\n",
            "      copying deps\\examples\\ml\\fm_classifier_example.py -> build\\lib\\pyspark\\examples\\src\\main\\python\\ml\n",
            "      copying deps\\examples\\ml\\fm_regressor_example.py -> build\\lib\\pyspark\\examples\\src\\main\\python\\ml\n",
            "      copying deps\\examples\\ml\\fpgrowth_example.py -> build\\lib\\pyspark\\examples\\src\\main\\python\\ml\n",
            "      copying deps\\examples\\ml\\gaussian_mixture_example.py -> build\\lib\\pyspark\\examples\\src\\main\\python\\ml\n",
            "      copying deps\\examples\\ml\\generalized_linear_regression_example.py -> build\\lib\\pyspark\\examples\\src\\main\\python\\ml\n",
            "      copying deps\\examples\\ml\\gradient_boosted_tree_classifier_example.py -> build\\lib\\pyspark\\examples\\src\\main\\python\\ml\n",
            "      copying deps\\examples\\ml\\gradient_boosted_tree_regressor_example.py -> build\\lib\\pyspark\\examples\\src\\main\\python\\ml\n",
            "      copying deps\\examples\\ml\\imputer_example.py -> build\\lib\\pyspark\\examples\\src\\main\\python\\ml\n",
            "      copying deps\\examples\\ml\\index_to_string_example.py -> build\\lib\\pyspark\\examples\\src\\main\\python\\ml\n",
            "      copying deps\\examples\\ml\\interaction_example.py -> build\\lib\\pyspark\\examples\\src\\main\\python\\ml\n",
            "      copying deps\\examples\\ml\\isotonic_regression_example.py -> build\\lib\\pyspark\\examples\\src\\main\\python\\ml\n",
            "      copying deps\\examples\\ml\\kmeans_example.py -> build\\lib\\pyspark\\examples\\src\\main\\python\\ml\n",
            "      copying deps\\examples\\ml\\lda_example.py -> build\\lib\\pyspark\\examples\\src\\main\\python\\ml\n",
            "      copying deps\\examples\\ml\\linear_regression_with_elastic_net.py -> build\\lib\\pyspark\\examples\\src\\main\\python\\ml\n",
            "      copying deps\\examples\\ml\\linearsvc.py -> build\\lib\\pyspark\\examples\\src\\main\\python\\ml\n",
            "      copying deps\\examples\\ml\\logistic_regression_summary_example.py -> build\\lib\\pyspark\\examples\\src\\main\\python\\ml\n",
            "      copying deps\\examples\\ml\\logistic_regression_with_elastic_net.py -> build\\lib\\pyspark\\examples\\src\\main\\python\\ml\n",
            "      copying deps\\examples\\ml\\max_abs_scaler_example.py -> build\\lib\\pyspark\\examples\\src\\main\\python\\ml\n",
            "      copying deps\\examples\\ml\\min_hash_lsh_example.py -> build\\lib\\pyspark\\examples\\src\\main\\python\\ml\n",
            "      copying deps\\examples\\ml\\min_max_scaler_example.py -> build\\lib\\pyspark\\examples\\src\\main\\python\\ml\n",
            "      copying deps\\examples\\ml\\multiclass_logistic_regression_with_elastic_net.py -> build\\lib\\pyspark\\examples\\src\\main\\python\\ml\n",
            "      copying deps\\examples\\ml\\multilayer_perceptron_classification.py -> build\\lib\\pyspark\\examples\\src\\main\\python\\ml\n",
            "      copying deps\\examples\\ml\\n_gram_example.py -> build\\lib\\pyspark\\examples\\src\\main\\python\\ml\n",
            "      copying deps\\examples\\ml\\naive_bayes_example.py -> build\\lib\\pyspark\\examples\\src\\main\\python\\ml\n",
            "      copying deps\\examples\\ml\\normalizer_example.py -> build\\lib\\pyspark\\examples\\src\\main\\python\\ml\n",
            "      copying deps\\examples\\ml\\one_vs_rest_example.py -> build\\lib\\pyspark\\examples\\src\\main\\python\\ml\n",
            "      copying deps\\examples\\ml\\onehot_encoder_example.py -> build\\lib\\pyspark\\examples\\src\\main\\python\\ml\n",
            "      copying deps\\examples\\ml\\pca_example.py -> build\\lib\\pyspark\\examples\\src\\main\\python\\ml\n",
            "      copying deps\\examples\\ml\\pipeline_example.py -> build\\lib\\pyspark\\examples\\src\\main\\python\\ml\n",
            "      copying deps\\examples\\ml\\polynomial_expansion_example.py -> build\\lib\\pyspark\\examples\\src\\main\\python\\ml\n",
            "      copying deps\\examples\\ml\\power_iteration_clustering_example.py -> build\\lib\\pyspark\\examples\\src\\main\\python\\ml\n",
            "      copying deps\\examples\\ml\\prefixspan_example.py -> build\\lib\\pyspark\\examples\\src\\main\\python\\ml\n",
            "      copying deps\\examples\\ml\\quantile_discretizer_example.py -> build\\lib\\pyspark\\examples\\src\\main\\python\\ml\n",
            "      copying deps\\examples\\ml\\random_forest_classifier_example.py -> build\\lib\\pyspark\\examples\\src\\main\\python\\ml\n",
            "      copying deps\\examples\\ml\\random_forest_regressor_example.py -> build\\lib\\pyspark\\examples\\src\\main\\python\\ml\n",
            "      copying deps\\examples\\ml\\rformula_example.py -> build\\lib\\pyspark\\examples\\src\\main\\python\\ml\n",
            "      copying deps\\examples\\ml\\robust_scaler_example.py -> build\\lib\\pyspark\\examples\\src\\main\\python\\ml\n",
            "      copying deps\\examples\\ml\\sql_transformer.py -> build\\lib\\pyspark\\examples\\src\\main\\python\\ml\n",
            "      copying deps\\examples\\ml\\standard_scaler_example.py -> build\\lib\\pyspark\\examples\\src\\main\\python\\ml\n",
            "      copying deps\\examples\\ml\\stopwords_remover_example.py -> build\\lib\\pyspark\\examples\\src\\main\\python\\ml\n",
            "      copying deps\\examples\\ml\\string_indexer_example.py -> build\\lib\\pyspark\\examples\\src\\main\\python\\ml\n",
            "      copying deps\\examples\\ml\\summarizer_example.py -> build\\lib\\pyspark\\examples\\src\\main\\python\\ml\n",
            "      copying deps\\examples\\ml\\tf_idf_example.py -> build\\lib\\pyspark\\examples\\src\\main\\python\\ml\n",
            "      copying deps\\examples\\ml\\tokenizer_example.py -> build\\lib\\pyspark\\examples\\src\\main\\python\\ml\n",
            "      copying deps\\examples\\ml\\train_validation_split.py -> build\\lib\\pyspark\\examples\\src\\main\\python\\ml\n",
            "      copying deps\\examples\\ml\\univariate_feature_selector_example.py -> build\\lib\\pyspark\\examples\\src\\main\\python\\ml\n",
            "      copying deps\\examples\\ml\\variance_threshold_selector_example.py -> build\\lib\\pyspark\\examples\\src\\main\\python\\ml\n",
            "      copying deps\\examples\\ml\\vector_assembler_example.py -> build\\lib\\pyspark\\examples\\src\\main\\python\\ml\n",
            "      copying deps\\examples\\ml\\vector_indexer_example.py -> build\\lib\\pyspark\\examples\\src\\main\\python\\ml\n",
            "      copying deps\\examples\\ml\\vector_size_hint_example.py -> build\\lib\\pyspark\\examples\\src\\main\\python\\ml\n",
            "      copying deps\\examples\\ml\\vector_slicer_example.py -> build\\lib\\pyspark\\examples\\src\\main\\python\\ml\n",
            "      copying deps\\examples\\ml\\word2vec_example.py -> build\\lib\\pyspark\\examples\\src\\main\\python\\ml\n",
            "      creating build\\lib\\pyspark\\examples\\src\\main\\python\\mllib\n",
            "      copying deps\\examples\\mllib\\__init__.py -> build\\lib\\pyspark\\examples\\src\\main\\python\\mllib\n",
            "      copying deps\\examples\\mllib\\binary_classification_metrics_example.py -> build\\lib\\pyspark\\examples\\src\\main\\python\\mllib\n",
            "      copying deps\\examples\\mllib\\bisecting_k_means_example.py -> build\\lib\\pyspark\\examples\\src\\main\\python\\mllib\n",
            "      copying deps\\examples\\mllib\\correlations.py -> build\\lib\\pyspark\\examples\\src\\main\\python\\mllib\n",
            "      copying deps\\examples\\mllib\\correlations_example.py -> build\\lib\\pyspark\\examples\\src\\main\\python\\mllib\n",
            "      copying deps\\examples\\mllib\\decision_tree_classification_example.py -> build\\lib\\pyspark\\examples\\src\\main\\python\\mllib\n",
            "      copying deps\\examples\\mllib\\decision_tree_regression_example.py -> build\\lib\\pyspark\\examples\\src\\main\\python\\mllib\n",
            "      copying deps\\examples\\mllib\\elementwise_product_example.py -> build\\lib\\pyspark\\examples\\src\\main\\python\\mllib\n",
            "      copying deps\\examples\\mllib\\fpgrowth_example.py -> build\\lib\\pyspark\\examples\\src\\main\\python\\mllib\n",
            "      copying deps\\examples\\mllib\\gaussian_mixture_example.py -> build\\lib\\pyspark\\examples\\src\\main\\python\\mllib\n",
            "      copying deps\\examples\\mllib\\gaussian_mixture_model.py -> build\\lib\\pyspark\\examples\\src\\main\\python\\mllib\n",
            "      copying deps\\examples\\mllib\\gradient_boosting_classification_example.py -> build\\lib\\pyspark\\examples\\src\\main\\python\\mllib\n",
            "      copying deps\\examples\\mllib\\gradient_boosting_regression_example.py -> build\\lib\\pyspark\\examples\\src\\main\\python\\mllib\n",
            "      copying deps\\examples\\mllib\\hypothesis_testing_example.py -> build\\lib\\pyspark\\examples\\src\\main\\python\\mllib\n",
            "      copying deps\\examples\\mllib\\hypothesis_testing_kolmogorov_smirnov_test_example.py -> build\\lib\\pyspark\\examples\\src\\main\\python\\mllib\n",
            "      copying deps\\examples\\mllib\\isotonic_regression_example.py -> build\\lib\\pyspark\\examples\\src\\main\\python\\mllib\n",
            "      copying deps\\examples\\mllib\\k_means_example.py -> build\\lib\\pyspark\\examples\\src\\main\\python\\mllib\n",
            "      copying deps\\examples\\mllib\\kernel_density_estimation_example.py -> build\\lib\\pyspark\\examples\\src\\main\\python\\mllib\n",
            "      copying deps\\examples\\mllib\\kmeans.py -> build\\lib\\pyspark\\examples\\src\\main\\python\\mllib\n",
            "      copying deps\\examples\\mllib\\latent_dirichlet_allocation_example.py -> build\\lib\\pyspark\\examples\\src\\main\\python\\mllib\n",
            "      copying deps\\examples\\mllib\\linear_regression_with_sgd_example.py -> build\\lib\\pyspark\\examples\\src\\main\\python\\mllib\n",
            "      copying deps\\examples\\mllib\\logistic_regression.py -> build\\lib\\pyspark\\examples\\src\\main\\python\\mllib\n",
            "      copying deps\\examples\\mllib\\logistic_regression_with_lbfgs_example.py -> build\\lib\\pyspark\\examples\\src\\main\\python\\mllib\n",
            "      copying deps\\examples\\mllib\\multi_class_metrics_example.py -> build\\lib\\pyspark\\examples\\src\\main\\python\\mllib\n",
            "      copying deps\\examples\\mllib\\multi_label_metrics_example.py -> build\\lib\\pyspark\\examples\\src\\main\\python\\mllib\n",
            "      copying deps\\examples\\mllib\\naive_bayes_example.py -> build\\lib\\pyspark\\examples\\src\\main\\python\\mllib\n",
            "      copying deps\\examples\\mllib\\normalizer_example.py -> build\\lib\\pyspark\\examples\\src\\main\\python\\mllib\n",
            "      copying deps\\examples\\mllib\\pca_rowmatrix_example.py -> build\\lib\\pyspark\\examples\\src\\main\\python\\mllib\n",
            "      copying deps\\examples\\mllib\\power_iteration_clustering_example.py -> build\\lib\\pyspark\\examples\\src\\main\\python\\mllib\n",
            "      copying deps\\examples\\mllib\\random_forest_classification_example.py -> build\\lib\\pyspark\\examples\\src\\main\\python\\mllib\n",
            "      copying deps\\examples\\mllib\\random_forest_regression_example.py -> build\\lib\\pyspark\\examples\\src\\main\\python\\mllib\n",
            "      copying deps\\examples\\mllib\\random_rdd_generation.py -> build\\lib\\pyspark\\examples\\src\\main\\python\\mllib\n",
            "      copying deps\\examples\\mllib\\ranking_metrics_example.py -> build\\lib\\pyspark\\examples\\src\\main\\python\\mllib\n",
            "      copying deps\\examples\\mllib\\recommendation_example.py -> build\\lib\\pyspark\\examples\\src\\main\\python\\mllib\n",
            "      copying deps\\examples\\mllib\\regression_metrics_example.py -> build\\lib\\pyspark\\examples\\src\\main\\python\\mllib\n",
            "      copying deps\\examples\\mllib\\sampled_rdds.py -> build\\lib\\pyspark\\examples\\src\\main\\python\\mllib\n",
            "      copying deps\\examples\\mllib\\standard_scaler_example.py -> build\\lib\\pyspark\\examples\\src\\main\\python\\mllib\n",
            "      copying deps\\examples\\mllib\\stratified_sampling_example.py -> build\\lib\\pyspark\\examples\\src\\main\\python\\mllib\n",
            "      copying deps\\examples\\mllib\\streaming_k_means_example.py -> build\\lib\\pyspark\\examples\\src\\main\\python\\mllib\n",
            "      copying deps\\examples\\mllib\\streaming_linear_regression_example.py -> build\\lib\\pyspark\\examples\\src\\main\\python\\mllib\n",
            "      copying deps\\examples\\mllib\\summary_statistics_example.py -> build\\lib\\pyspark\\examples\\src\\main\\python\\mllib\n",
            "      copying deps\\examples\\mllib\\svd_example.py -> build\\lib\\pyspark\\examples\\src\\main\\python\\mllib\n",
            "      copying deps\\examples\\mllib\\svm_with_sgd_example.py -> build\\lib\\pyspark\\examples\\src\\main\\python\\mllib\n",
            "      copying deps\\examples\\mllib\\tf_idf_example.py -> build\\lib\\pyspark\\examples\\src\\main\\python\\mllib\n",
            "      copying deps\\examples\\mllib\\word2vec.py -> build\\lib\\pyspark\\examples\\src\\main\\python\\mllib\n",
            "      copying deps\\examples\\mllib\\word2vec_example.py -> build\\lib\\pyspark\\examples\\src\\main\\python\\mllib\n",
            "      creating build\\lib\\pyspark\\examples\\src\\main\\python\\sql\n",
            "      copying deps\\examples\\sql\\__init__.py -> build\\lib\\pyspark\\examples\\src\\main\\python\\sql\n",
            "      copying deps\\examples\\sql\\arrow.py -> build\\lib\\pyspark\\examples\\src\\main\\python\\sql\n",
            "      copying deps\\examples\\sql\\basic.py -> build\\lib\\pyspark\\examples\\src\\main\\python\\sql\n",
            "      copying deps\\examples\\sql\\datasource.py -> build\\lib\\pyspark\\examples\\src\\main\\python\\sql\n",
            "      copying deps\\examples\\sql\\hive.py -> build\\lib\\pyspark\\examples\\src\\main\\python\\sql\n",
            "      creating build\\lib\\pyspark\\examples\\src\\main\\python\\sql\\streaming\n",
            "      copying deps\\examples\\sql\\streaming\\structured_kafka_wordcount.py -> build\\lib\\pyspark\\examples\\src\\main\\python\\sql\\streaming\n",
            "      copying deps\\examples\\sql\\streaming\\structured_network_wordcount.py -> build\\lib\\pyspark\\examples\\src\\main\\python\\sql\\streaming\n",
            "      copying deps\\examples\\sql\\streaming\\structured_network_wordcount_windowed.py -> build\\lib\\pyspark\\examples\\src\\main\\python\\sql\\streaming\n",
            "      copying deps\\examples\\sql\\streaming\\structured_sessionization.py -> build\\lib\\pyspark\\examples\\src\\main\\python\\sql\\streaming\n",
            "      creating build\\lib\\pyspark\\examples\\src\\main\\python\\streaming\n",
            "      copying deps\\examples\\streaming\\__init__.py -> build\\lib\\pyspark\\examples\\src\\main\\python\\streaming\n",
            "      copying deps\\examples\\streaming\\hdfs_wordcount.py -> build\\lib\\pyspark\\examples\\src\\main\\python\\streaming\n",
            "      copying deps\\examples\\streaming\\network_wordcount.py -> build\\lib\\pyspark\\examples\\src\\main\\python\\streaming\n",
            "      copying deps\\examples\\streaming\\network_wordjoinsentiments.py -> build\\lib\\pyspark\\examples\\src\\main\\python\\streaming\n",
            "      copying deps\\examples\\streaming\\queue_stream.py -> build\\lib\\pyspark\\examples\\src\\main\\python\\streaming\n",
            "      copying deps\\examples\\streaming\\recoverable_network_wordcount.py -> build\\lib\\pyspark\\examples\\src\\main\\python\\streaming\n",
            "      copying deps\\examples\\streaming\\sql_network_wordcount.py -> build\\lib\\pyspark\\examples\\src\\main\\python\\streaming\n",
            "      copying deps\\examples\\streaming\\stateful_network_wordcount.py -> build\\lib\\pyspark\\examples\\src\\main\\python\\streaming\n",
            "      running build_scripts\n",
            "      creating build\\scripts-3.10\n",
            "      copying deps\\bin\\beeline -> build\\scripts-3.10\n",
            "      copying deps\\bin\\beeline.cmd -> build\\scripts-3.10\n",
            "      copying deps\\bin\\docker-image-tool.sh -> build\\scripts-3.10\n",
            "      copying deps\\bin\\find-spark-home -> build\\scripts-3.10\n",
            "      copying deps\\bin\\find-spark-home.cmd -> build\\scripts-3.10\n",
            "      copying deps\\bin\\load-spark-env.cmd -> build\\scripts-3.10\n",
            "      copying deps\\bin\\load-spark-env.sh -> build\\scripts-3.10\n",
            "      copying deps\\bin\\pyspark -> build\\scripts-3.10\n",
            "      copying deps\\bin\\pyspark.cmd -> build\\scripts-3.10\n",
            "      copying deps\\bin\\pyspark2.cmd -> build\\scripts-3.10\n",
            "      copying deps\\bin\\run-example -> build\\scripts-3.10\n",
            "      copying deps\\bin\\run-example.cmd -> build\\scripts-3.10\n",
            "      copying deps\\bin\\spark-class -> build\\scripts-3.10\n",
            "      copying deps\\bin\\spark-class.cmd -> build\\scripts-3.10\n",
            "      copying deps\\bin\\spark-class2.cmd -> build\\scripts-3.10\n",
            "      copying deps\\bin\\spark-shell -> build\\scripts-3.10\n",
            "      copying deps\\bin\\spark-shell.cmd -> build\\scripts-3.10\n",
            "      copying deps\\bin\\spark-shell2.cmd -> build\\scripts-3.10\n",
            "      copying deps\\bin\\spark-sql -> build\\scripts-3.10\n",
            "      copying deps\\bin\\spark-sql.cmd -> build\\scripts-3.10\n",
            "      copying deps\\bin\\spark-sql2.cmd -> build\\scripts-3.10\n",
            "      copying deps\\bin\\spark-submit -> build\\scripts-3.10\n",
            "      copying deps\\bin\\spark-submit.cmd -> build\\scripts-3.10\n",
            "      copying deps\\bin\\spark-submit2.cmd -> build\\scripts-3.10\n",
            "      copying deps\\bin\\sparkR -> build\\scripts-3.10\n",
            "      copying deps\\bin\\sparkR.cmd -> build\\scripts-3.10\n",
            "      copying deps\\bin\\sparkR2.cmd -> build\\scripts-3.10\n",
            "      copying and adjusting pyspark\\find_spark_home.py -> build\\scripts-3.10\n",
            "      running install_lib\n",
            "      copying build\\lib\\pyspark\\python\\pyspark\\shell.py -> C:\\Users\\charl\\AppData\\Local\\Packages\\PythonSoftwareFoundation.Python.3.10_qbz5n2kfra8p0\\LocalCache\\local-packages\\Python310\\site-packages\\pyspark\\python\\pyspark\n",
            "      byte-compiling C:\\Users\\charl\\AppData\\Local\\Packages\\PythonSoftwareFoundation.Python.3.10_qbz5n2kfra8p0\\LocalCache\\local-packages\\Python310\\site-packages\\pyspark\\examples\\src\\main\\python\\ml\\multiclass_logistic_regression_with_elastic_net.py to multiclass_logistic_regression_with_elastic_net.cpython-310.pyc\n",
            "      error: [Errno 2] No such file or directory: 'C:\\\\Users\\\\charl\\\\AppData\\\\Local\\\\Packages\\\\PythonSoftwareFoundation.Python.3.10_qbz5n2kfra8p0\\\\LocalCache\\\\local-packages\\\\Python310\\\\site-packages\\\\pyspark\\\\examples\\\\src\\\\main\\\\python\\\\ml\\\\__pycache__\\\\multiclass_logistic_regression_with_elastic_net.cpython-310.pyc.2153906132672'\n",
            "      [end of output]\n",
            "  \n",
            "  note: This error originates from a subprocess, and is likely not a problem with pip.\n",
            "error: legacy-install-failure\n",
            "\n",
            "× Encountered error while trying to install package.\n",
            "╰─> pyspark\n",
            "\n",
            "note: This is an issue with the package mentioned above, not pip.\n",
            "hint: See above for output from the failure.\n",
            "WARNING: You are using pip version 22.0.4; however, version 22.1.2 is available.\n",
            "You should consider upgrading via the 'C:\\Users\\charl\\AppData\\Local\\Microsoft\\WindowsApps\\PythonSoftwareFoundation.Python.3.10_qbz5n2kfra8p0\\python.exe -m pip install --upgrade pip' command.\n"
          ]
        },
        {
          "name": "stdout",
          "output_type": "stream",
          "text": [
            "Collecting numpy\n",
            "  Downloading numpy-1.22.4-cp310-cp310-win_amd64.whl (14.7 MB)\n",
            "     --------------------------------------- 14.7/14.7 MB 32.7 MB/s eta 0:00:00\n",
            "Installing collected packages: numpy\n",
            "Successfully installed numpy-1.22.4\n"
          ]
        },
        {
          "name": "stderr",
          "output_type": "stream",
          "text": [
            "  WARNING: The script f2py.exe is installed in 'C:\\Users\\charl\\AppData\\Local\\Packages\\PythonSoftwareFoundation.Python.3.10_qbz5n2kfra8p0\\LocalCache\\local-packages\\Python310\\Scripts' which is not on PATH.\n",
            "  Consider adding this directory to PATH or, if you prefer to suppress this warning, use --no-warn-script-location.\n",
            "WARNING: You are using pip version 22.0.4; however, version 22.1.2 is available.\n",
            "You should consider upgrading via the 'C:\\Users\\charl\\AppData\\Local\\Microsoft\\WindowsApps\\PythonSoftwareFoundation.Python.3.10_qbz5n2kfra8p0\\python.exe -m pip install --upgrade pip' command.\n"
          ]
        }
      ],
      "source": [
        "! pip install pyspark"
      ]
    },
    {
      "cell_type": "markdown",
      "metadata": {
        "id": "gKwwa7A_fvgf"
      },
      "source": [
        "# Statistics and Analysis"
      ]
    },
    {
      "cell_type": "code",
      "execution_count": 4,
      "metadata": {
        "id": "JiGYGmwQXmtC"
      },
      "outputs": [],
      "source": [
        "import os\n",
        "import numpy as np\n",
        "from datetime import datetime\n",
        "from dateutil.relativedelta import relativedelta\n",
        "from pyspark.sql import SparkSession\n",
        "from pyspark.sql import Window\n",
        "from pyspark.sql import DataFrame\n",
        "from pyspark.sql.functions import *\n",
        "from pyspark.sql.types import IntegerType"
      ]
    },
    {
      "cell_type": "markdown",
      "metadata": {
        "id": "yiqJKKo7gC1O"
      },
      "source": [
        "Spark setup"
      ]
    },
    {
      "cell_type": "code",
      "execution_count": 5,
      "metadata": {
        "id": "ctndhlR8gCVY"
      },
      "outputs": [],
      "source": [
        "spark = (SparkSession.builder.appName('nouvelle_baguette_magique').getOrCreate())\n",
        "spark.sparkContext.setLogLevel('ERROR')"
      ]
    },
    {
      "cell_type": "markdown",
      "metadata": {
        "id": "7JU_b0A3f1d3"
      },
      "source": [
        "*Load* the differents csv: we store them in a dictionary where keys are the companies names"
      ]
    },
    {
      "cell_type": "code",
      "execution_count": 6,
      "metadata": {
        "id": "xDM8yOtef9jK"
      },
      "outputs": [],
      "source": [
        "csv_dict = {}"
      ]
    },
    {
      "cell_type": "code",
      "execution_count": 7,
      "metadata": {
        "colab": {
          "base_uri": "https://localhost:8080/"
        },
        "id": "dG0HmXBOf02l",
        "outputId": "2bff3fc3-23cf-45d8-88c8-bab625ff5ff4"
      },
      "outputs": [
        {
          "name": "stdout",
          "output_type": "stream",
          "text": [
            "AMAZON\n",
            "APPLE\n",
            "FACEBOOK\n",
            "GOOGLE\n",
            "MICROSOFT\n",
            "TESLA\n",
            "ZOOM\n"
          ]
        }
      ],
      "source": [
        "for file in os.listdir('stocks_data'):\n",
        "  if not file.endswith('.csv'):\n",
        "    continue\n",
        "  name = file[:file.rfind('.csv')]\n",
        "  print(name)\n",
        "  df = spark.read.csv('stocks_data/' + file, header=True)\n",
        "  csv_dict[name] = df"
      ]
    },
    {
      "cell_type": "code",
      "execution_count": 8,
      "metadata": {
        "colab": {
          "base_uri": "https://localhost:8080/"
        },
        "id": "XuUAVbkvhMrf",
        "outputId": "4aba29d1-7178-4a77-f91d-a375d405c734"
      },
      "outputs": [
        {
          "name": "stdout",
          "output_type": "stream",
          "text": [
            "dict_keys(['AMAZON', 'APPLE', 'FACEBOOK', 'GOOGLE', 'MICROSOFT', 'TESLA', 'ZOOM'])\n"
          ]
        }
      ],
      "source": [
        "companies = csv_dict.keys()\n",
        "print(companies)"
      ]
    },
    {
      "cell_type": "markdown",
      "metadata": {
        "id": "hXlGmJ6dYGHS"
      },
      "source": [
        "Show the first and last 40 rows of each stock price:"
      ]
    },
    {
      "cell_type": "code",
      "execution_count": 9,
      "metadata": {
        "colab": {
          "base_uri": "https://localhost:8080/"
        },
        "id": "bV2U3ik0NEbO",
        "outputId": "f80ffa2f-352b-40f1-9131-b55547801522"
      },
      "outputs": [],
      "source": [
        "def first_and_last_40(df: DataFrame):\n",
        "  \"\"\"\n",
        "  Prints the first 40 and the last 40 rows of the stock data of the given DataFrame\n",
        "  \"\"\"\n",
        "  print('HEAD:')\n",
        "  print(df.head(40))\n",
        "  print('TAIL:')\n",
        "  print(df.tail(40))\n",
        "  print()"
      ]
    },
    {
      "cell_type": "markdown",
      "metadata": {
        "id": "PWFyy2cWc8EY"
      },
      "source": [
        "Get the number of observations:"
      ]
    },
    {
      "cell_type": "code",
      "execution_count": 10,
      "metadata": {
        "colab": {
          "base_uri": "https://localhost:8080/"
        },
        "id": "9RPGX1LZc-Tv",
        "outputId": "97cdd705-218e-4c16-e3d8-54bed2b53def"
      },
      "outputs": [],
      "source": [
        "def get_nb_obs():\n",
        "  \"\"\"\n",
        "  Return the total number of observations in the dataframes of csv_dict (csv_dict must be defined earlier)\n",
        "  \"\"\"\n",
        "  count = 0\n",
        "  for company in companies:\n",
        "    count += csv_dict[company].count()\n",
        "  return count"
      ]
    },
    {
      "cell_type": "markdown",
      "metadata": {
        "id": "eBjosG-0c-wP"
      },
      "source": [
        "Deduce programmatically what is the period you have between the data points : for\n",
        "example, if you have data point with the following date [01/01, 02/01, …..], you\n",
        "shoud have a function that will analyse the difference between the dates\n",
        "automatically and deduce it is a day period"
      ]
    },
    {
      "cell_type": "code",
      "execution_count": 11,
      "metadata": {
        "id": "xtevdeuqdGBw"
      },
      "outputs": [],
      "source": [
        "def seconds_to_period(seconds: float):\n",
        "  \"\"\"\n",
        "  Get the order of time (hours, days, weeks, months, years) of the given number of seconds.\n",
        "  For example, seconds_to_period(3600) = 'hours'\n",
        "  \"\"\"\n",
        "  conversions = {'minutes': 60,\n",
        "                'hours': 3600,\n",
        "                'days': 3600*24,\n",
        "                'weeks': 3600*24*7,\n",
        "                'months': 3600*24*7*3,\n",
        "                'year': 3600*24*7*52}\n",
        "\n",
        "  prev = 'seconds'\n",
        "  for order in conversions:\n",
        "      if seconds / conversions[order] < 1:\n",
        "        return prev\n",
        "      prev = order\n",
        "  return 'year'\n",
        "        \n",
        "def get_order(df: DataFrame):\n",
        "  \"\"\"\n",
        "  Return the the sample period (str) of the given dataframe\n",
        "  \"\"\"\n",
        "  # Only get the dates\n",
        "  dates = df.select(to_date(df.Date).alias('ts'))\n",
        "\n",
        "  # Duplicating the ts column with a shift of 1, so that each row contains the current timestamp and the previous one\n",
        "  my_window = Window.partitionBy().orderBy(\"ts\")\n",
        "  dates = dates.withColumn(\"prev_ts\", lag(dates.ts).over(my_window))\n",
        "\n",
        "  # Get the difference in seconds between ts and the newly created 'prev_ts' column\n",
        "  dates = dates.withColumn(\"diff\", unix_timestamp(dates.ts) - unix_timestamp(dates.prev_ts))\n",
        "  # Get the average of the diff\n",
        "  diff_avg = dates.agg({'diff': 'mean'}).collect()[0][0]\n",
        "\n",
        "  # The diff is the average step between two timestamp, this finds its order of time (seconds, minutes, hours, ...)\n",
        "  order = seconds_to_period(diff_avg)\n",
        "  return order"
      ]
    },
    {
      "cell_type": "markdown",
      "metadata": {
        "id": "2SiXcQPcdGXm"
      },
      "source": [
        "Descriptive statistics for each dataframe and each column (min, max, standard\n",
        "deviation)\n"
      ]
    },
    {
      "cell_type": "code",
      "execution_count": 12,
      "metadata": {
        "id": "aKy8FgJJSeQW"
      },
      "outputs": [],
      "source": [
        "def show_descriptive_stats(df: DataFrame):\n",
        "  \"\"\"\n",
        "  Prints on the output descriptive statistics for the given DataFrame\n",
        "  \"\"\"\n",
        "  df.summary().show()"
      ]
    },
    {
      "cell_type": "markdown",
      "metadata": {
        "id": "RFcjBHxjdKoE"
      },
      "source": [
        "Number of missing values for each dataframe and column\n"
      ]
    },
    {
      "cell_type": "code",
      "execution_count": 13,
      "metadata": {
        "id": "OfdSwxCqdObL"
      },
      "outputs": [],
      "source": [
        "def show_missing_values(df: DataFrame):\n",
        "  \"\"\"\n",
        "  Returns a DataFrame containing the number of NaNs and null values for each column in the given DataFrame\n",
        "  \"\"\"\n",
        "  return df.select([count(when(isnan(c) | col(c).isNull(), c)).alias(c) for c in df.columns])"
      ]
    },
    {
      "cell_type": "markdown",
      "metadata": {
        "id": "n1nZCzuxtt1Y"
      },
      "source": [
        "\tThere are no missing values nor null values except in company name."
      ]
    },
    {
      "cell_type": "markdown",
      "metadata": {
        "id": "npr3TABPdO7T"
      },
      "source": [
        "Correlation between values "
      ]
    },
    {
      "cell_type": "markdown",
      "metadata": {
        "id": "PCGFRp_U1zWy"
      },
      "source": [
        "Voici les matrices de corrélations entre chaque colonnes pour chaque entreprises"
      ]
    },
    {
      "cell_type": "code",
      "execution_count": 14,
      "metadata": {
        "id": "BUmsdGu7dS4a"
      },
      "outputs": [],
      "source": [
        "def show_correlation_matrix(df: DataFrame):\n",
        "  \"\"\"\n",
        "  Returns the correlation matrix over the columns of the given DataFrame\n",
        "  \"\"\"\n",
        "  corr_mat = np.empty(6, dtype=object)\n",
        "  corr_mat[...] = [[] for _ in range(corr_mat.shape[0])]\n",
        "  copy = df.alias(\"copy\")\n",
        "  cols = copy.columns[1:-1]\n",
        "\n",
        "  for c in cols:\n",
        "    copy = copy.withColumn(c, copy[c].cast(IntegerType()))\n",
        "\n",
        "  for i, col1 in enumerate(cols):\n",
        "    for j, col2 in enumerate(cols):\n",
        "      corr_mat[i].append(copy.stat.corr(col1, col2))\n",
        "  \n",
        "  return corr_mat"
      ]
    },
    {
      "cell_type": "markdown",
      "metadata": {
        "id": "LfrPhQgDfHCJ"
      },
      "source": [
        "What is the average of the opening and closing prices for each stock price and for\n",
        "different time periods (week, month, year)"
      ]
    },
    {
      "cell_type": "code",
      "execution_count": 15,
      "metadata": {
        "id": "v-QXQWIjfID1"
      },
      "outputs": [],
      "source": [
        "from pyspark.sql.functions import *\n",
        "\n",
        "def show_average_open_close_stock_per_timeperiod(df: DataFrame):\n",
        "  \"\"\"\n",
        "  Returns a tuple of DataFrames containing the weekly, monthly and yearly average of the stock prices for open and close in the given DataFrame\n",
        "  \"\"\"\n",
        "  # week\n",
        "  weekly_open_close = df.withColumn(\"week_strt_day\",date_sub(next_day(col(\"Date\"),\"sunday\"),7)).groupBy(\"week_strt_day\").agg(mean(\"Open\").cast(\"int\").alias(\"Open\"),mean(\"Close\").cast(\"int\").alias(\"Close\")).orderBy(\"week_strt_day\")\n",
        "\n",
        "  # month\n",
        "  monthly_open_close = df.withColumn(\"month_strt_day\",substring('Date', 0, 7)).groupBy(\"month_strt_day\").agg(mean(\"Open\").cast(\"int\").alias(\"Open\"),mean(\"Close\").cast(\"int\").alias(\"Close\")).orderBy(\"month_strt_day\")\n",
        "  \n",
        "  # year\n",
        "  yearly_open_close = df.withColumn(\"year_strt_day\",substring('Date', 0, 4)).groupBy(\"year_strt_day\").agg(mean(\"Open\").cast(\"int\").alias(\"Open\"),mean(\"Close\").cast(\"int\").alias(\"Close\")).orderBy(\"year_strt_day\")\n",
        "\n",
        "  return [weekly_open_close, monthly_open_close, yearly_open_close]"
      ]
    },
    {
      "cell_type": "markdown",
      "metadata": {
        "id": "ZeekIJmDfJut"
      },
      "source": [
        "How do the stock prices change day to day and month to month (may be you can\n",
        "create new columns to save those calculations)\n"
      ]
    },
    {
      "cell_type": "code",
      "execution_count": 16,
      "metadata": {
        "id": "iOyJFOjzfK6Y"
      },
      "outputs": [],
      "source": [
        "from pyspark.sql.functions import lag, col\n",
        "from pyspark.sql.window import Window\n",
        "\n",
        "def show_stock_price_evolution_per_timeperiod(df: DataFrame):\n",
        "  \"\"\"\n",
        "  Return a couple of DataFrames containing the stock price evolution per timeperiod.\n",
        "  \"\"\"\n",
        "  # day by day evolution for Close\n",
        "  w1 = Window().partitionBy().orderBy(col(\"Date\"))\n",
        "  df_with_day_evol = df.select(\"*\", lag(\"Close\").over(w1).alias(\"tmp\")).na.drop()\n",
        "  df_with_day_evol = df_with_day_evol.withColumn(\"day_evolution\", df_with_day_evol[\"Close\"] - df_with_day_evol[\"tmp\"])\n",
        "  df_with_day_evol = df_with_day_evol.drop(df_with_day_evol[\"tmp\"])\n",
        "  \n",
        "\n",
        "  # month by month evolution for Close\n",
        "  w2 = Window().partitionBy().orderBy(col(\"month_strt_day\"))\n",
        "\n",
        "  df_with_monthly_evol = df.withColumn(\"month_strt_day\",substring('Date', 0, 7)).groupBy(\"month_strt_day\").agg(mean(\"Close\").cast(\"int\").alias(\"Close\")).orderBy(\"month_strt_day\")\n",
        "  df_with_monthly_evol = df_with_monthly_evol.select(\"*\", lag(\"Close\").over(w2).alias(\"tmp\")).na.drop()\n",
        "  df_with_monthly_evol = df_with_monthly_evol.withColumn(\"month_evolution\", df_with_monthly_evol[\"Close\"] - df_with_monthly_evol[\"tmp\"])\n",
        "  df_with_monthly_evol = df_with_monthly_evol.drop(df_with_monthly_evol[\"tmp\"])\n",
        "\n",
        "  return (df_with_day_evol, df_with_monthly_evol)"
      ]
    },
    {
      "cell_type": "markdown",
      "metadata": {
        "id": "_T_NPul4fNpL"
      },
      "source": [
        "Based on the opening and closing price, calculate the daily return of each stock"
      ]
    },
    {
      "cell_type": "code",
      "execution_count": 17,
      "metadata": {
        "id": "fGENVr2GfOMF"
      },
      "outputs": [],
      "source": [
        "def show_daily_return(df: DataFrame):\n",
        "  \"\"\"\n",
        "  Return an updated version of the given DataFrame with an additional column containing the daily evolution of the stock price\n",
        "  \"\"\"\n",
        "  df_with_daily_return = df.withColumn(\"daily_return\", df[\"Close\"] - df[\"Open\"])\n",
        "  return df_with_daily_return"
      ]
    },
    {
      "cell_type": "markdown",
      "metadata": {
        "id": "Kgg4ShLefPxA"
      },
      "source": [
        "What are the stocks with the highest daily return"
      ]
    },
    {
      "cell_type": "code",
      "execution_count": 18,
      "metadata": {
        "id": "EBPuHNJpfQZc"
      },
      "outputs": [],
      "source": [
        "def show_max_daily_return(df: DataFrame):\n",
        "  \"\"\"\n",
        "  Return the maximum values of daily_return from the given DataFrame\n",
        "  \"\"\"\n",
        "  return df.groupby().max(\"daily_return\").first().asDict()['max(daily_return)']"
      ]
    },
    {
      "cell_type": "markdown",
      "metadata": {
        "id": "Hdi8SyInfSHd"
      },
      "source": [
        "Calculate the average daily return for different periods (week, month, and year)"
      ]
    },
    {
      "cell_type": "code",
      "execution_count": 19,
      "metadata": {
        "id": "nTqrkgKufS21"
      },
      "outputs": [],
      "source": [
        "def show_average_daily_return_per_timeperiod(df):\n",
        "  \"\"\"\n",
        "  Returns a tuple of DataFrames containing the weekly, monthly and yearly average of the stock price daily evolution computed from the given DataFrame\n",
        "  \"\"\"\n",
        "  # week\n",
        "  weekly = df.withColumn(\"week_strt_day\",date_sub(next_day(col(\"Date\"),\"sunday\"),7)).groupBy(\"week_strt_day\").agg(mean(\"daily_return\").cast(\"float\").alias(\"average_daily_return\")).orderBy(\"week_strt_day\")\n",
        "\n",
        "  # month\n",
        "  monthly = df.withColumn(\"month_strt_day\",substring('Date', 0, 7)).groupBy(\"month_strt_day\").agg(mean(\"daily_return\").cast(\"float\").alias(\"average_daily_return\")).orderBy(\"month_strt_day\")\n",
        "  \n",
        "  # year\n",
        "  yearly = df.withColumn(\"year_strt_day\",substring('Date', 0, 4)).groupBy(\"year_strt_day\").agg(mean(\"daily_return\").cast(\"float\").alias(\"average_daily_return\")).orderBy(\"year_strt_day\")\n",
        "\n",
        "  return [weekly, monthly, yearly]\n",
        "  "
      ]
    },
    {
      "cell_type": "markdown",
      "metadata": {
        "id": "YLXkrm9OfZiK"
      },
      "source": [
        "**Moving average** : The moving average is calculated by adding a stock's prices over a certain\n",
        "period and dividing the sum by the total number of periods. For example, if you want to\n",
        "calculate the moving average for the opening price of the stock ABC. You look at the opening\n",
        "price over five periods and calculate the average. For example if the opening price over the\n",
        "past five days were 25.40, 25.90. 26.50, 26.30 and 27.90. Then, the moving average of the\n",
        "opening price of the last day is 26.40. **Code a function** that take as input a dataframe, a\n",
        "column name, the number of points to consider for the moving average (5 in the example)\n",
        "and add a new column to the dataframe with the values of calculated moving average"
      ]
    },
    {
      "cell_type": "code",
      "execution_count": 20,
      "metadata": {
        "id": "lXmSSZmofZLG"
      },
      "outputs": [],
      "source": [
        "def moving_average(df: DataFrame, column: str, nb_periods: int):\n",
        "  \"\"\"\n",
        "  Returns a updated version of the given DataFrame containing the rolling average of the specified column over the given number of periods\n",
        "  The new column is given the name 'roll_[column]_[nb_periods]'\n",
        "  \"\"\"\n",
        "  conversions = {'minutes': 60,\n",
        "                'hours': 3600,\n",
        "                'days': 3600*24,\n",
        "                'weeks': 3600*24*7,\n",
        "                'months': 3600*24*7*3,\n",
        "                'year': 3600*24*7*52}\n",
        "  order = get_order(df)\n",
        "\n",
        "  df = df.withColumn('timestampGMT', df.Date.cast('timestamp'))\n",
        "\n",
        "  # create window by casting timestamp to long (number of seconds)\n",
        "  w = (Window.orderBy(col(\"timestampGMT\").cast('long')).rangeBetween(-(nb_periods * conversions[order]), 0))\n",
        "\n",
        "  df = df.withColumn('roll_' + column + '_' + str(nb_periods), avg(column).over(w))\n",
        "  return df.drop('timestampGMT')"
      ]
    },
    {
      "cell_type": "markdown",
      "metadata": {
        "id": "iAfEFCrifiVc"
      },
      "source": [
        "**Correlation** : Is there any correlation between the different stocks you have ? **Code a\n",
        "function** that takes as input the values of two stocks (you should decide what is the data\n",
        "type that will handle the values) and calculate the correlation between them\n"
      ]
    },
    {
      "cell_type": "code",
      "execution_count": 21,
      "metadata": {
        "id": "gx0MyCveXKQ4"
      },
      "outputs": [],
      "source": [
        "def corr_between(df1: DataFrame, df2: DataFrame, column: str):\n",
        "  \"\"\"\n",
        "  Returns the correlation coeficient between the two given DataFrames over the given column\n",
        "  \"\"\"\n",
        "  df = df1.select(col(column).cast('float')).withColumn('row_index', row_number().over(Window.orderBy(monotonically_increasing_id())))\n",
        "  df_other = df2.select(col(column).cast('float')).withColumnRenamed(column, column + '_other').withColumn('row_index', row_number().over(Window.orderBy(monotonically_increasing_id())))\n",
        "  joined = df.join(df_other, on=['row_index']).drop('row_index')\n",
        "  return joined.stat.corr(column, column + '_other')"
      ]
    },
    {
      "cell_type": "markdown",
      "metadata": {
        "id": "3YRXSwvW9BLY"
      },
      "source": [
        "When investing in stocks, the return rate is very important. **Code a function** that calculates\n",
        "the return rate of the stock in different periods (week, month and year) "
      ]
    },
    {
      "cell_type": "code",
      "execution_count": 22,
      "metadata": {
        "colab": {
          "base_uri": "https://localhost:8080/"
        },
        "id": "39KWCvwlXN_L",
        "outputId": "294dbee0-33b2-46a8-a1c4-e75b2f7c9930"
      },
      "outputs": [],
      "source": [
        "def compute_return_rate(df: DataFrame, period: str = 'year'):\n",
        "  \"\"\"\n",
        "  Returns a DataFrame containing the returns rate with dates spanning in the fashion of the given period (defaults to 'year')\n",
        "  \"\"\"\n",
        "  # Extract year, month and week from df\n",
        "  split = df.withColumn(\n",
        "      'year', year(df.Date)).withColumn(\n",
        "      'month', month(df.Date)).withColumn(\n",
        "      'week', weekofyear(df.Date))\n",
        "\n",
        "  date_window = Window.partitionBy().orderBy('Date')\n",
        "  with_prev = split.withColumn('prev_value', lag(split['Adj Close']).over(date_window))\n",
        "  with_diff = with_prev.withColumn('diff', with_prev['Adj Close'] - with_prev['prev_value'])\n",
        "  pct_change = with_diff.withColumn('pct_change', with_diff['diff'] / with_diff['prev_value'] * 100)\n",
        "\n",
        "  if period == 'year':\n",
        "    return pct_change.groupBy('year').agg(sum('pct_change').alias('return_rate'))\n",
        "  elif period == 'month':\n",
        "    return pct_change.groupBy('year', 'month').agg(sum('pct_change').alias('return_rate'))\n",
        "  elif period == 'week':\n",
        "    return pct_change.groupBy('year', 'week').agg(sum('pct_change').alias('return_rate'))\n",
        "  elif period == 'day':\n",
        "    return pct_change.drop('prev_value', 'diff', 'year', 'month', 'week').withColumnRenamed('pct_change', 'return_rate')\n",
        "  else:\n",
        "    raise ValueError(f'{period} is not a valid period. Should be either \"year\", \"month\", \"week\" or \"day\"')"
      ]
    },
    {
      "cell_type": "markdown",
      "metadata": {
        "id": "IMNdU-EM9HTZ"
      },
      "source": [
        "Given a specific month, what is the stock with the best return rate. **Code a function** that\n",
        "takes as input a start date and a period (month, year), calculate the return rate for each\n",
        "stock and return the one with the best return rate."
      ]
    },
    {
      "cell_type": "code",
      "execution_count": 23,
      "metadata": {
        "id": "kGUOWX9T9JK0"
      },
      "outputs": [],
      "source": [
        "def return_rate_over_period(df: DataFrame, start_date: datetime, end_date: datetime):\n",
        "  \"\"\"\n",
        "  Compute and returns the return rate between two dates for the given DataFrame\n",
        "  \"\"\"\n",
        "  ranged = df.filter(df.Date >= start_date).filter(df.Date <= end_date)\n",
        "  \n",
        "  date_window = Window.partitionBy().orderBy('Date')\n",
        "  with_prev = ranged.withColumn('prev_value', Functions.lag(ranged['Adj Close']).over(date_window))\n",
        "  with_diff = with_prev.withColumn('diff', with_prev['Adj Close'] - with_prev['prev_value'])\n",
        "  pct_change = with_diff.withColumn('pct_change', with_diff['diff'] / with_diff['prev_value'] * 100)\n",
        "  total = pct_change.select('pct_change').groupBy().sum().collect()[0][0]\n",
        "  return total\n",
        "\n",
        "def best_return_rate_on_period(companies_csv_dict: dict, start_date: str, period: str):\n",
        "  \"\"\"\n",
        "  Return the name of the company which has the highest return rate over a period after a given starting date, and the actual best return rate over the period\n",
        "  \"\"\"\n",
        "  start = datetime.strptime(start_date, '%Y-%m-%d')\n",
        "  if period == 'year':\n",
        "    end = start + relativedelta(years=1)\n",
        "  elif period == 'month':\n",
        "    end = start + relativedelta(months=1)\n",
        "  else:\n",
        "    raise ValueError(f'{period} is not a valid period. Should be either \"year\" or \"month\"')\n",
        "\n",
        "  comp, max = None, 0\n",
        "  for company in companies:\n",
        "    data = companies_csv_dict[company]\n",
        "    rr = return_rate_over_period(data, start, end)\n",
        "    if rr is not None and rr >= max:\n",
        "      comp = company\n",
        "      max = rr\n",
        "\n",
        "  return comp, max"
      ]
    },
    {
      "cell_type": "markdown",
      "metadata": {},
      "source": [
        "### Full Execution"
      ]
    },
    {
      "cell_type": "markdown",
      "metadata": {},
      "source": [
        "Uncomment parts to be ran and tweak parameters if needed (some example are given)"
      ]
    },
    {
      "cell_type": "code",
      "execution_count": 24,
      "metadata": {},
      "outputs": [
        {
          "name": "stdout",
          "output_type": "stream",
          "text": [
            "AMAZON\n"
          ]
        }
      ],
      "source": [
        "for company in companies:\n",
        "  print(company)\n",
        "  df = csv_dict[company]\n",
        "\n",
        "  # print(\"Descriptive statistics\")\n",
        "  # show_descriptive_stats(df)\n",
        "  \n",
        "  # print(\"Missing values\")\n",
        "  # show_missing_values(df).show()\n",
        "  \n",
        "  # print(\"Correlation matrix\")\n",
        "  # print(show_correlation_matrix(df))\n",
        "  \n",
        "  # print(\"Average open and close stock weekly, monthly and yearly\")\n",
        "  # avg_daily, avg_monthly, avg_yearly = show_average_open_close_stock_per_timeperiod(df)\n",
        "  # # avg_daily.show(10)\n",
        "  # avg_monthly.show(10)\n",
        "  # avg_yearly.show(10) \n",
        "  \n",
        "  # print(\"Stock price evolution each day and month\")\n",
        "  # daily_evol, monthly_evol = show_stock_price_evolution_per_timeperiod(df)\n",
        "  # daily_evol.show(10)\n",
        "  # monthly_evol.show(10)\n",
        "\n",
        "  # print(\"Daily return\")\n",
        "  # daily_return_df = show_daily_return(df)\n",
        "  # daily_return_df.show()\n",
        "\n",
        "  # print(\"Max daily return\")\n",
        "  # print(show_max_daily_return(daily_return_df))\n",
        "\n",
        "  # print(\"Average daily return weekly, monthly and yearly\")\n",
        "  # avg_dr_week, avg_dr_month, avg_dr_year = show_average_daily_return_per_timeperiod(daily_return_df)\n",
        "  # avg_dr_week.show(10)\n",
        "  # avg_dr_month.show(10)\n",
        "  # avg_dr_year.show(10)\n",
        "\n",
        "  # print('Rolling average (Adj Close, 5 periods)')\n",
        "  # rolling_df = moving_average(df, 'Adj Close', 5)\n",
        "  # rolling_df.show()\n",
        "\n",
        "  # print('Return rate over years')\n",
        "  # yearly_rr = compute_return_rate(df, 'year')\n",
        "  # yearly_rr.show()\n",
        "\n",
        "  # Uncomment below to run for ALL companies, not just AMAZON\n",
        "  break\n",
        "\n",
        "# print('Example correlation between APPLE and FACEBOOK over Adj Close')\n",
        "# df1 = csv_dict['APPLE']\n",
        "# df2 = csv_dict['FACEBOOK']\n",
        "# print(corr_between(df1, df2, 'Adj Close'))\n",
        "\n",
        "# print('Best performing company for a year after 2019-01-01')\n",
        "# print(best_return_rate_on_period(csv_dict, '2019-01-01', 'year'))\n"
      ]
    },
    {
      "cell_type": "markdown",
      "metadata": {
        "id": "d97sjzWLiQDt"
      },
      "source": [
        "# Modèle de prédiction de la valeur des actions\n",
        "\n",
        "- Séparation du dataset en train et test sets\n",
        "- Préparer le dataset (transformers)\n",
        "- Construire le modèle (estimators)\n",
        "- Créer la pipeline\n",
        "- Evaluer le modèle"
      ]
    },
    {
      "cell_type": "markdown",
      "metadata": {
        "id": "-c-uzSbZZsD_"
      },
      "source": [
        "Dans la cellule suivante nous séparons les étapes de la régression en différentes fonctions par soucis de clarité."
      ]
    },
    {
      "cell_type": "code",
      "execution_count": 25,
      "metadata": {
        "id": "tVheE-y99K8E"
      },
      "outputs": [],
      "source": [
        "from pyspark.ml.feature import VectorAssembler\n",
        "from pyspark.ml.regression import LinearRegression\n",
        "from pyspark.ml import Pipeline\n",
        "\n",
        "\n",
        "def separateTrainTestsets(df):\n",
        "  # Train / Test sets\n",
        "  dftrain, dftest = df.randomSplit([.8, .2], seed=42)\n",
        "  print(f\"There are {dftrain.cache().count()} rows in the training set, and {dftest.cache().count()} in the test set\")\n",
        "\n",
        "  return dftrain, dftest \n",
        "\n",
        "def prepareDataset(dftrain, inputCols):\n",
        "  # Prepare dataset\n",
        "  vecAssembler = VectorAssembler(inputCols=inputCols, outputCol=\"features\")\n",
        "  vecTrainDf = vecAssembler.transform(dftrain)\n",
        "  \n",
        "  return vecAssembler, vecTrainDf \n",
        "\n",
        "def buildModel(vecTrainDf, labelCol):\n",
        "  # Build model\n",
        "  lr = LinearRegression(featuresCol=\"features\", labelCol=labelCol)\n",
        "  lrModel = lr.fit(vecTrainDf)\n",
        "\n",
        "  return lr, lrModel\n",
        "\n",
        "def buildPipeline(trainDF, stages):\n",
        "  # Build pipeline\n",
        "  pipeline = Pipeline(stages=stages)\n",
        "  pipelineModel = pipeline.fit(trainDF)\n",
        "  \n",
        "  return pipelineModel\n",
        "\n",
        "def predictTestSet(testDF, pipelineModel):\n",
        "  # Test on test set\n",
        "  predDF = pipelineModel.transform(testDF)\n",
        "  \n",
        "  return predDF\n",
        "\n"
      ]
    },
    {
      "cell_type": "markdown",
      "metadata": {
        "id": "SE2DAkexZ5Ku"
      },
      "source": [
        "Dans la cellule suivante nous convertissons les différentes colonnes intéressantes pour notre régression en \"double\" afin qu'elles soient utilisables pour cette dernière."
      ]
    },
    {
      "cell_type": "code",
      "execution_count": 26,
      "metadata": {
        "id": "Y3D0yfghzrV2"
      },
      "outputs": [],
      "source": [
        "def cast_string_to_double(csv_dict):\n",
        "  # Cast Date column to date\n",
        "  pred_csv_dict = csv_dict.copy()\n",
        "  for company in companies:\n",
        "    pred_csv_dict[company] = pred_csv_dict[company].withColumn(\"Date\", unix_timestamp(\"Date\", \"yyyy-MM-dd\"))\n",
        "    pred_csv_dict[company] = pred_csv_dict[company].withColumn(\"Close\",csv_dict[company].Close.cast('double'))\n",
        "    pred_csv_dict[company] = pred_csv_dict[company].withColumn(\"Open\",csv_dict[company].Open.cast('double'))\n",
        "    pred_csv_dict[company] = pred_csv_dict[company].withColumn(\"Adj Close\",csv_dict[company][\"Adj Close\"].cast('double'))\n",
        "  \n",
        "  return pred_csv_dict"
      ]
    },
    {
      "cell_type": "markdown",
      "metadata": {
        "id": "6vtbRjUHaGo2"
      },
      "source": [
        "La fonction suivante réunie les différentes fonctions précédentes de régression (hormis celle de conversion) afin d'effectuer la régression.\n",
        "Le résultat est un dictionnaire contenant, pour chaque entreprises, un dataframe similaire au précédent mais contenant en plus une colonne avec les prédictions."
      ]
    },
    {
      "cell_type": "code",
      "execution_count": 27,
      "metadata": {
        "id": "faSkJcSjqmPF"
      },
      "outputs": [
        {
          "ename": "ModuleNotFoundError",
          "evalue": "No module named 'matplotlib'",
          "output_type": "error",
          "traceback": [
            "\u001b[1;31m---------------------------------------------------------------------------\u001b[0m",
            "\u001b[1;31mModuleNotFoundError\u001b[0m                       Traceback (most recent call last)",
            "\u001b[1;32mc:\\Users\\charl\\Documents\\epita\\newmagicwand\\project_newmagicwand.ipynb Cell 53'\u001b[0m in \u001b[0;36m<cell line: 2>\u001b[1;34m()\u001b[0m\n\u001b[0;32m      <a href='vscode-notebook-cell:/c%3A/Users/charl/Documents/epita/newmagicwand/project_newmagicwand.ipynb#ch0000052?line=0'>1</a>\u001b[0m \u001b[39mfrom\u001b[39;00m \u001b[39mpyspark\u001b[39;00m\u001b[39m.\u001b[39;00m\u001b[39mml\u001b[39;00m\u001b[39m.\u001b[39;00m\u001b[39mevaluation\u001b[39;00m \u001b[39mimport\u001b[39;00m RegressionEvaluator\n\u001b[1;32m----> <a href='vscode-notebook-cell:/c%3A/Users/charl/Documents/epita/newmagicwand/project_newmagicwand.ipynb#ch0000052?line=1'>2</a>\u001b[0m \u001b[39mimport\u001b[39;00m \u001b[39mmatplotlib\u001b[39;00m\u001b[39m.\u001b[39;00m\u001b[39mpyplot\u001b[39;00m \u001b[39mas\u001b[39;00m \u001b[39mplt\u001b[39;00m\n\u001b[0;32m      <a href='vscode-notebook-cell:/c%3A/Users/charl/Documents/epita/newmagicwand/project_newmagicwand.ipynb#ch0000052?line=3'>4</a>\u001b[0m \u001b[39mdef\u001b[39;00m \u001b[39mperform_regression\u001b[39m(df):\n\u001b[0;32m      <a href='vscode-notebook-cell:/c%3A/Users/charl/Documents/epita/newmagicwand/project_newmagicwand.ipynb#ch0000052?line=4'>5</a>\u001b[0m \n\u001b[0;32m      <a href='vscode-notebook-cell:/c%3A/Users/charl/Documents/epita/newmagicwand/project_newmagicwand.ipynb#ch0000052?line=5'>6</a>\u001b[0m \n\u001b[0;32m      <a href='vscode-notebook-cell:/c%3A/Users/charl/Documents/epita/newmagicwand/project_newmagicwand.ipynb#ch0000052?line=6'>7</a>\u001b[0m   \u001b[39m# Build model and predict\u001b[39;00m\n\u001b[0;32m      <a href='vscode-notebook-cell:/c%3A/Users/charl/Documents/epita/newmagicwand/project_newmagicwand.ipynb#ch0000052?line=8'>9</a>\u001b[0m   dftrain, dftest \u001b[39m=\u001b[39m separateTrainTestsets(df)\n",
            "\u001b[1;31mModuleNotFoundError\u001b[0m: No module named 'matplotlib'"
          ]
        }
      ],
      "source": [
        "from pyspark.ml.evaluation import RegressionEvaluator\n",
        "import matplotlib.pyplot as plt\n",
        "\n",
        "def perform_regression(df):\n",
        "\n",
        "\n",
        "  # Build model and predict\n",
        "\n",
        "  dftrain, dftest = separateTrainTestsets(df)\n",
        "  vecAssembler, vecTrainDf = prepareDataset(dftrain, [\"Date\", \"Open\"])\n",
        "  lrClose, lrModelClose = buildModel(vecTrainDf, \"Adj Close\")\n",
        "  pipelineModelClose = buildPipeline(dftrain, [vecAssembler, lrClose])\n",
        "  predDFClose = predictTestSet(dftest, pipelineModelClose)\n",
        "  \n",
        "  return predDFClose\n",
        "\n",
        "def perform_regression_dict(prep_csv_dict):\n",
        "  pred_dict = {}\n",
        "\n",
        "  for company in companies:\n",
        "    df = prep_csv_dict[company]\n",
        "    pred_dict[company] = perform_regression(df)\n",
        "\n",
        "  return pred_dict"
      ]
    },
    {
      "cell_type": "markdown",
      "metadata": {
        "id": "4kJJIFMwaval"
      },
      "source": [
        "Les fonctions suivantes calculent respectivement les metrics et les plots montrant les résultats des régressions faites par la fonction d'avant"
      ]
    },
    {
      "cell_type": "code",
      "execution_count": null,
      "metadata": {
        "id": "fen6uhdwudy8"
      },
      "outputs": [],
      "source": [
        "def compute_rmse(df):\n",
        "\n",
        "  # Metrics\n",
        "\n",
        "  predDFClose = df.withColumn(\"absolute error\", abs(df[\"prediction\"] - df[\"Adj Close\"]))\n",
        "  regressionMeanEvaluator = RegressionEvaluator(predictionCol=\"prediction\", labelCol=\"Adj Close\", metricName=\"rmse\")\n",
        "  rmse = regressionMeanEvaluator.evaluate(predDFClose)\n",
        "  max_abse = predDFClose.sort(col(\"absolute error\").desc()).collect()[0][\"absolute error\"]\n",
        "\n",
        "  return rmse, max_abse\n",
        "\n",
        "def compute_rmse_dict(pred_dict):\n",
        "  rmse_dict = {}\n",
        "  max_abse_dict = {}\n",
        "\n",
        "  for company in companies:\n",
        "    df = pred_dict[company]\n",
        "    rmse_dict[company], max_abse_dict[company] = compute_rmse(df)\n",
        "  \n",
        "  return rmse_dict, max_abse_dict\n",
        "\n",
        "def plot_predictions_dict(pred_dict):\n",
        "\n",
        "  # Plot\n",
        "  f, axs = plt.subplots(7, figsize=(12, 25))\n",
        "  plot_index = 0\n",
        "\n",
        "  for company in companies:\n",
        "    predDFClose = pred_dict[company]\n",
        "    dates = predDFClose.select(from_unixtime('Date', 'MM-dd-yyyy')).rdd.map(lambda x : x[0]).collect()\n",
        "\n",
        "    predictions = predDFClose.select('prediction').rdd.map(lambda x : x[0]).collect()\n",
        "    adjCloses = predDFClose.select('Adj Close').rdd.map(lambda x : x[0]).collect()\n",
        "    \n",
        "    \n",
        "    axs[plot_index].plot(dates, adjCloses, markersize=2, label='Real Close value')\n",
        "    axs[plot_index].plot(dates, predictions, markersize=2, label='Prediction')\n",
        "    \n",
        "    axs[plot_index].set_ylabel('Stock value')\n",
        "    axs[plot_index].set_title('Stock value evolution and prediction for ' + company)\n",
        "    axs[plot_index].set_xticks(dates[::50])\n",
        "    axs[plot_index].legend()\n",
        "\n",
        "    plot_index += 1\n",
        "\n",
        "def plot_df(df):\n",
        "  dates = df.select(from_unixtime('Date', 'MM-dd-yyyy')).rdd.map(lambda x : x[0]).collect()\n",
        "\n",
        "  predictions = df.select('prediction').rdd.map(lambda x : x[0]).collect()\n",
        "  adjCloses = df.select('Adj Close').rdd.map(lambda x : x[0]).collect()\n",
        "  \n",
        "  \n",
        "  plt.plot(dates, adjCloses, markersize=2, label='Real Close value')\n",
        "  plt.plot(dates, predictions, markersize=2, label='Prediction')\n",
        "  \n",
        "  plt.set_ylabel('Stock value')\n",
        "  plt.set_title('Stock value evolution and prediction for ' + company)\n",
        "  plt.set_xticks(dates[::50])\n",
        "  plt.legend()\n"
      ]
    },
    {
      "cell_type": "markdown",
      "metadata": {
        "id": "RramjmOcbB3c"
      },
      "source": [
        "La cellule suivante regroupe et appelle les fonctions de la régression pour notre use case. Il s'agit d'un modèle par entreprise. En effet, il n'y a aucun intérêt ici à créer un modèle commun pour les entreprises car chaque entreprise veut pouvoir prédire ses propres résultats et non pas ceux d'un groupe d'entreprises (les résultats seraient erronés). Cela aurait du sens si les entreprises faisaient partie d'un même groupe financier, auquel cas il aurait été pratique de prédire le cours de l'action du groupe."
      ]
    },
    {
      "cell_type": "code",
      "execution_count": null,
      "metadata": {
        "colab": {
          "base_uri": "https://localhost:8080/",
          "height": 406
        },
        "id": "oG5SSyDuZaj2",
        "outputId": "dc49f799-f7d1-4f80-bc18-5978150f7b23"
      },
      "outputs": [
        {
          "name": "stderr",
          "output_type": "stream",
          "text": [
            "                                                                                \r"
          ]
        },
        {
          "name": "stdout",
          "output_type": "stream",
          "text": [
            "There are 828 rows in the training set, and 159 in the test set\n",
            "There are 828 rows in the training set, and 159 in the test set\n",
            "There are 828 rows in the training set, and 159 in the test set\n",
            "There are 828 rows in the training set, and 159 in the test set\n",
            "There are 828 rows in the training set, and 159 in the test set\n",
            "There are 828 rows in the training set, and 159 in the test set\n",
            "There are 352 rows in the training set, and 59 in the test set\n"
          ]
        },
        {
          "data": {
            "text/plain": [
              "<matplotlib.legend.Legend at 0x7f9ae7f2a790>"
            ]
          },
          "execution_count": 27,
          "metadata": {},
          "output_type": "execute_result"
        },
        {
          "data": {
            "image/png": "[encoded data removed]",
            "text/plain": [
              "<Figure size 432x288 with 1 Axes>"
            ]
          },
          "metadata": {
            "needs_background": "light"
          },
          "output_type": "display_data"
        }
      ],
      "source": [
        "prep_csv_dict = cast_string_to_double(csv_dict)\n",
        "pred_dict = perform_regression_dict(prep_csv_dict)  \n",
        "rmse_dict, max_abse_dict = compute_rmse_dict(pred_dict)\n",
        "plot_predictions_dict(pred_dict)"
      ]
    },
    {
      "cell_type": "markdown",
      "metadata": {},
      "source": [
        "In the next cell, we print a scatter plot in which we compare the RMSE of the predictions for each company. We also plot the maximal error."
      ]
    },
    {
      "cell_type": "code",
      "execution_count": null,
      "metadata": {},
      "outputs": [],
      "source": [
        "plt.scatter(x=rmse_dict.keys(), y=rmse_dict.values(), label=\"Root mean squared error\")\n",
        "plt.scatter(x=max_abse_dict.keys(), y=max_abse_dict.values(), label=\"Maximum error\")\n",
        "plt.ylabel(\"Error indicator - gap from actual stock value\")\n",
        "plt.legend()"
      ]
    },
    {
      "cell_type": "markdown",
      "metadata": {},
      "source": [
        "# Statistics Visualisations"
      ]
    },
    {
      "cell_type": "code",
      "execution_count": null,
      "metadata": {},
      "outputs": [],
      "source": [
        "import matplotlib.pyplot as plt"
      ]
    },
    {
      "cell_type": "code",
      "execution_count": null,
      "metadata": {},
      "outputs": [
        {
          "data": {
            "image/png": "[encoded data removed]",
            "text/plain": [
              "<Figure size 1080x720 with 1 Axes>"
            ]
          },
          "metadata": {
            "needs_background": "light"
          },
          "output_type": "display_data"
        }
      ],
      "source": [
        "ax = plt.subplot()\n",
        "plt.rcParams[\"figure.figsize\"] = (15, 10)\n",
        "\n",
        "xdates = csv_dict['AMAZON'].select('Date').rdd.flatMap(lambda x: x).collect()\n",
        "\n",
        "for company in companies:\n",
        "\tdf = moving_average(csv_dict[company], 'Adj Close', 14)\n",
        "\tac = df.select('roll_Adj Close_14').rdd.flatMap(lambda x : x).collect()\n",
        "\tdates = df.select('Date').rdd.flatMap(lambda x: x).collect()\n",
        "\tax.plot(dates, ac, label=f'{company}')\n",
        "plt.legend()\n",
        "plt.suptitle(\"Rolling average on 14 days for Adj Close\")\n",
        "plt.xticks(xdates[::100])\n",
        "plt.ylabel('Value')\n",
        "plt.xlabel('Date')\n",
        "plt.show()\n",
        "# plt.savefig('all_companies.jpg')"
      ]
    },
    {
      "cell_type": "code",
      "execution_count": null,
      "metadata": {},
      "outputs": [
        {
          "data": {
            "image/png": "[encoded data removed]",
            "text/plain": [
              "<Figure size 1080x720 with 1 Axes>"
            ]
          },
          "metadata": {
            "needs_background": "light"
          },
          "output_type": "display_data"
        }
      ],
      "source": [
        "import numpy as np\n",
        "\n",
        "df1 = csv_dict['APPLE']\n",
        "df2 = csv_dict['FACEBOOK']\n",
        "\n",
        "dfr1 = show_daily_return(df1)\n",
        "dfr2 = show_daily_return(df2)\n",
        "\n",
        "_, monthly1, _ = show_average_daily_return_per_timeperiod(dfr1)\n",
        "_, monthly2, _ = show_average_daily_return_per_timeperiod(dfr2)\n",
        "\n",
        "mr1 = monthly1.select('average_daily_return').rdd.flatMap(lambda x: x).collect()\n",
        "mr2 = monthly2.select('average_daily_return').rdd.flatMap(lambda x: x).collect()\n",
        "dates = monthly1.select('month_strt_day').rdd.flatMap(lambda x: x).collect()\n",
        "\n",
        "norm_mr1 = mr1 / np.linalg.norm(mr1)\n",
        "norm_mr2 = mr2 / np.linalg.norm(mr2)\n",
        "\n",
        "\n",
        "plt.rcParams[\"figure.figsize\"] = (15,10)\n",
        "plt.plot(dates, norm_mr1, label='APPLE')\n",
        "plt.plot(dates, norm_mr2, label='FACEBOOK')\n",
        "plt.legend()\n",
        "plt.suptitle('Normalised monthly return rate for FACEBOOK and APPLE')\n",
        "plt.xticks(dates[::3])\n",
        "plt.xlabel('Date')\n",
        "plt.ylabel('Normalised monthly return')\n",
        "plt.show()\n",
        "# plt.savefig('corr_apple_facebook.jpg')"
      ]
    },
    {
      "cell_type": "code",
      "execution_count": null,
      "metadata": {},
      "outputs": [],
      "source": []
    }
  ],
  "metadata": {
    "colab": {
      "collapsed_sections": [],
      "name": "BIGDATA_newmagicwand.ipynb",
      "provenance": []
    },
    "kernelspec": {
      "display_name": "Python 3.10.5 64-bit (windows store)",
      "language": "python",
      "name": "python3"
    },
    "language_info": {
      "codemirror_mode": {
        "name": "ipython",
        "version": 3
      },
      "file_extension": ".py",
      "mimetype": "text/x-python",
      "name": "python",
      "nbconvert_exporter": "python",
      "pygments_lexer": "ipython3",
      "version": "3.10.5"
    },
    "vscode": {
      "interpreter": {
        "hash": "efd71c79c7a8ed7e2e6ea7880ca39791cb24c303d26270a10635bc4d8604a30a"
      }
    }
  },
  "nbformat": 4,
  "nbformat_minor": 0
}
